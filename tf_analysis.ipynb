{
  "nbformat": 4,
  "nbformat_minor": 0,
  "metadata": {
    "colab": {
      "provenance": [],
      "authorship_tag": "ABX9TyNcv8VK47zSYY6H4OtnSpIe",
      "include_colab_link": true
    },
    "kernelspec": {
      "name": "ir",
      "display_name": "R"
    },
    "language_info": {
      "name": "R"
    }
  },
  "cells": [
    {
      "cell_type": "markdown",
      "metadata": {
        "id": "view-in-github",
        "colab_type": "text"
      },
      "source": [
        "<a href=\"https://colab.research.google.com/github/lingliao/remap_tf-main_Taylor/blob/main/tf_analysis.ipynb\" target=\"_parent\"><img src=\"https://colab.research.google.com/assets/colab-badge.svg\" alt=\"Open In Colab\"/></a>"
      ]
    },
    {
      "cell_type": "code",
      "source": [
        "install.packages(\"tidyverse\")"
      ],
      "metadata": {
        "colab": {
          "base_uri": "https://localhost:8080/"
        },
        "id": "gaBQyDQrD911",
        "outputId": "7f3e3d3e-a2f8-4098-bc4d-65d1b806f5aa"
      },
      "execution_count": null,
      "outputs": [
        {
          "output_type": "stream",
          "name": "stderr",
          "text": [
            "Installing package into ‘/usr/local/lib/R/site-library’\n",
            "(as ‘lib’ is unspecified)\n",
            "\n"
          ]
        }
      ]
    },
    {
      "cell_type": "code",
      "source": [
        "install.packages(\"zoo\")"
      ],
      "metadata": {
        "colab": {
          "base_uri": "https://localhost:8080/"
        },
        "id": "D06YvPTm2q25",
        "outputId": "49057f0e-f031-4485-a062-b43094d143dc"
      },
      "execution_count": null,
      "outputs": [
        {
          "output_type": "stream",
          "name": "stderr",
          "text": [
            "Installing package into ‘/usr/local/lib/R/site-library’\n",
            "(as ‘lib’ is unspecified)\n",
            "\n"
          ]
        }
      ]
    },
    {
      "cell_type": "code",
      "source": [
        "\n",
        "library(tidyverse)\n",
        "library(zoo)"
      ],
      "metadata": {
        "id": "zX1vj7mfD9WA"
      },
      "execution_count": null,
      "outputs": []
    },
    {
      "cell_type": "code",
      "source": [
        "unzip(\"/content/Taylor.zip\")"
      ],
      "metadata": {
        "id": "FRagANNvtbpT"
      },
      "execution_count": null,
      "outputs": []
    },
    {
      "cell_type": "code",
      "source": [
        "import = function(path){\n",
        "  counts = read.table(path, sep = \" \")\n",
        "  colnames(counts) = c(\"position\", \"count\")\n",
        "  counts = as_tibble(counts)\n",
        "  return(counts)\n",
        "}"
      ],
      "metadata": {
        "id": "gJ0988f9qaOv"
      },
      "execution_count": null,
      "outputs": []
    },
    {
      "cell_type": "code",
      "source": [
        "names = list.files(\"/content/Taylor\", pattern = \"*B8\")"
      ],
      "metadata": {
        "id": "gcU46NQaqkov"
      },
      "execution_count": null,
      "outputs": []
    },
    {
      "cell_type": "code",
      "source": [
        "names"
      ],
      "metadata": {
        "colab": {
          "base_uri": "https://localhost:8080/",
          "height": 34
        },
        "id": "ld2WaBOSOi0H",
        "outputId": "bb9ec23b-aed8-425e-c84e-eb8baad1316b"
      },
      "execution_count": null,
      "outputs": [
        {
          "output_type": "display_data",
          "data": {
            "text/html": [
              "<style>\n",
              ".list-inline {list-style: none; margin:0; padding: 0}\n",
              ".list-inline>li {display: inline-block}\n",
              ".list-inline>li:not(:last-child)::after {content: \"\\00b7\"; padding: 0 .5ex}\n",
              "</style>\n",
              "<ol class=list-inline><li>'lib262_HOXB8_count_position'</li><li>'lib486_HOXB8_count_position'</li></ol>\n"
            ],
            "text/markdown": "1. 'lib262_HOXB8_count_position'\n2. 'lib486_HOXB8_count_position'\n\n\n",
            "text/latex": "\\begin{enumerate*}\n\\item 'lib262\\_HOXB8\\_count\\_position'\n\\item 'lib486\\_HOXB8\\_count\\_position'\n\\end{enumerate*}\n",
            "text/plain": [
              "[1] \"lib262_HOXB8_count_position\" \"lib486_HOXB8_count_position\""
            ]
          },
          "metadata": {}
        }
      ]
    },
    {
      "cell_type": "code",
      "source": [
        "files = list.files(\"/content/Taylor\", pattern = \"B8\", full.names = T)"
      ],
      "metadata": {
        "id": "VdkjI7ieqp74"
      },
      "execution_count": null,
      "outputs": []
    },
    {
      "cell_type": "code",
      "source": [
        "names(files) = names\n",
        "\n",
        "hox = lapply(files, import)\n",
        "\n",
        "hox_all = hox %>% bind_rows(.id = \"list_name\")"
      ],
      "metadata": {
        "id": "-yN5JF9PqVXe"
      },
      "execution_count": null,
      "outputs": []
    },
    {
      "cell_type": "code",
      "source": [
        "hox_all = hox_all %>% mutate(pos = position -3501) %>% mutate(library = substr(list_name, 1, 6))"
      ],
      "metadata": {
        "id": "KYE_9RQyugnL"
      },
      "execution_count": null,
      "outputs": []
    },
    {
      "cell_type": "code",
      "source": [
        "hox_all"
      ],
      "metadata": {
        "id": "s-vpOlhL1OIE"
      },
      "execution_count": null,
      "outputs": []
    },
    {
      "cell_type": "code",
      "source": [
        "df <- hox_all[order(hox_all$pos,decreasing=FALSE),]"
      ],
      "metadata": {
        "id": "lKL1RFCJxnKL"
      },
      "execution_count": null,
      "outputs": []
    },
    {
      "cell_type": "code",
      "source": [
        "dim(df)"
      ],
      "metadata": {
        "colab": {
          "base_uri": "https://localhost:8080/",
          "height": 34
        },
        "id": "pynH4XmUc-eR",
        "outputId": "ac207489-6262-4a10-9106-573987beefc2"
      },
      "execution_count": null,
      "outputs": [
        {
          "output_type": "display_data",
          "data": {
            "text/html": [
              "<style>\n",
              ".list-inline {list-style: none; margin:0; padding: 0}\n",
              ".list-inline>li {display: inline-block}\n",
              ".list-inline>li:not(:last-child)::after {content: \"\\00b7\"; padding: 0 .5ex}\n",
              "</style>\n",
              "<ol class=list-inline><li>14004</li><li>5</li></ol>\n"
            ],
            "text/markdown": "1. 14004\n2. 5\n\n\n",
            "text/latex": "\\begin{enumerate*}\n\\item 14004\n\\item 5\n\\end{enumerate*}\n",
            "text/plain": [
              "[1] 14004     5"
            ]
          },
          "metadata": {}
        }
      ]
    },
    {
      "cell_type": "code",
      "source": [
        "a <- split(x = df, f = df$library)\n",
        "lib486 <- a$lib486\n",
        "lib262 <- a$lib262"
      ],
      "metadata": {
        "id": "ndcZvAUNW3ME"
      },
      "execution_count": null,
      "outputs": []
    },
    {
      "cell_type": "code",
      "source": [
        "dim(l)"
      ],
      "metadata": {
        "colab": {
          "base_uri": "https://localhost:8080/",
          "height": 34
        },
        "id": "hWdRy9SVKFMH",
        "outputId": "a9c69389-a5c9-4da8-a55d-63d55847c906"
      },
      "execution_count": null,
      "outputs": [
        {
          "output_type": "display_data",
          "data": {
            "text/html": [
              "<style>\n",
              ".list-inline {list-style: none; margin:0; padding: 0}\n",
              ".list-inline>li {display: inline-block}\n",
              ".list-inline>li:not(:last-child)::after {content: \"\\00b7\"; padding: 0 .5ex}\n",
              "</style>\n",
              "<ol class=list-inline><li>6802</li><li>1</li></ol>\n"
            ],
            "text/markdown": "1. 6802\n2. 1\n\n\n",
            "text/latex": "\\begin{enumerate*}\n\\item 6802\n\\item 1\n\\end{enumerate*}\n",
            "text/plain": [
              "[1] 6802    1"
            ]
          },
          "metadata": {}
        }
      ]
    },
    {
      "cell_type": "code",
      "source": [
        "lib486_zi <- rollmean(lib486$count, k = 201,align = \"center\", fill = NA)\n",
        "\n",
        "lib486_zi <- data.frame(lib486_zi)"
      ],
      "metadata": {
        "id": "hur2uRAzbxP9"
      },
      "execution_count": null,
      "outputs": []
    },
    {
      "cell_type": "code",
      "source": [
        "lib486_zi"
      ],
      "metadata": {
        "id": "FzbFKc0xbyeX"
      },
      "execution_count": null,
      "outputs": []
    },
    {
      "cell_type": "code",
      "source": [
        "\n",
        "lib486_mu <- rollmean(lib486$count, k = 501,align = \"center\", fill = NA)\n",
        "lib486_mu <- data.frame(lib486_mu)\n",
        "\n",
        "lib486_mu$seq_num <- seq.int(nrow(lib486_mu))\n",
        "lib486_zi$seq_num <- seq.int(nrow(lib486_zi))"
      ],
      "metadata": {
        "id": "P5IW43krXB5L"
      },
      "execution_count": null,
      "outputs": []
    },
    {
      "cell_type": "code",
      "source": [
        "dim(lib486_mu)"
      ],
      "metadata": {
        "colab": {
          "base_uri": "https://localhost:8080/",
          "height": 34
        },
        "id": "Kk3ecVlzCFAI",
        "outputId": "58538317-fd68-4c9d-f314-b6d6e548a79c"
      },
      "execution_count": null,
      "outputs": [
        {
          "output_type": "display_data",
          "data": {
            "text/html": [
              "<style>\n",
              ".list-inline {list-style: none; margin:0; padding: 0}\n",
              ".list-inline>li {display: inline-block}\n",
              ".list-inline>li:not(:last-child)::after {content: \"\\00b7\"; padding: 0 .5ex}\n",
              "</style>\n",
              "<ol class=list-inline><li>7002</li><li>2</li></ol>\n"
            ],
            "text/markdown": "1. 7002\n2. 2\n\n\n",
            "text/latex": "\\begin{enumerate*}\n\\item 7002\n\\item 2\n\\end{enumerate*}\n",
            "text/plain": [
              "[1] 7002    2"
            ]
          },
          "metadata": {}
        }
      ]
    },
    {
      "cell_type": "code",
      "source": [
        "head(lib486_zi)"
      ],
      "metadata": {
        "colab": {
          "base_uri": "https://localhost:8080/",
          "height": 286
        },
        "id": "2YzEPaJFPSKf",
        "outputId": "de57e57a-5e50-497e-c8c5-7b313ff528b1"
      },
      "execution_count": null,
      "outputs": [
        {
          "output_type": "display_data",
          "data": {
            "text/html": [
              "<table class=\"dataframe\">\n",
              "<caption>A data.frame: 6 × 2</caption>\n",
              "<thead>\n",
              "\t<tr><th></th><th scope=col>lib486_zi</th><th scope=col>seq_num</th></tr>\n",
              "\t<tr><th></th><th scope=col>&lt;dbl&gt;</th><th scope=col>&lt;int&gt;</th></tr>\n",
              "</thead>\n",
              "<tbody>\n",
              "\t<tr><th scope=row>1</th><td>NA</td><td>1</td></tr>\n",
              "\t<tr><th scope=row>2</th><td>NA</td><td>2</td></tr>\n",
              "\t<tr><th scope=row>3</th><td>NA</td><td>3</td></tr>\n",
              "\t<tr><th scope=row>4</th><td>NA</td><td>4</td></tr>\n",
              "\t<tr><th scope=row>5</th><td>NA</td><td>5</td></tr>\n",
              "\t<tr><th scope=row>6</th><td>NA</td><td>6</td></tr>\n",
              "</tbody>\n",
              "</table>\n"
            ],
            "text/markdown": "\nA data.frame: 6 × 2\n\n| <!--/--> | lib486_zi &lt;dbl&gt; | seq_num &lt;int&gt; |\n|---|---|---|\n| 1 | NA | 1 |\n| 2 | NA | 2 |\n| 3 | NA | 3 |\n| 4 | NA | 4 |\n| 5 | NA | 5 |\n| 6 | NA | 6 |\n\n",
            "text/latex": "A data.frame: 6 × 2\n\\begin{tabular}{r|ll}\n  & lib486\\_zi & seq\\_num\\\\\n  & <dbl> & <int>\\\\\n\\hline\n\t1 & NA & 1\\\\\n\t2 & NA & 2\\\\\n\t3 & NA & 3\\\\\n\t4 & NA & 4\\\\\n\t5 & NA & 5\\\\\n\t6 & NA & 6\\\\\n\\end{tabular}\n",
            "text/plain": [
              "  lib486_zi seq_num\n",
              "1 NA        1      \n",
              "2 NA        2      \n",
              "3 NA        3      \n",
              "4 NA        4      \n",
              "5 NA        5      \n",
              "6 NA        6      "
            ]
          },
          "metadata": {}
        }
      ]
    },
    {
      "cell_type": "code",
      "source": [
        "colnames(lib486_mu) = c( \"average count\",\"relative position\")\n",
        "colnames(lib486_zi) = c( \"average count\",\"relative position\")"
      ],
      "metadata": {
        "id": "GFGvL4E_Fl-f"
      },
      "execution_count": null,
      "outputs": []
    },
    {
      "cell_type": "code",
      "source": [
        "lib486_mu[3501,]"
      ],
      "metadata": {
        "colab": {
          "base_uri": "https://localhost:8080/",
          "height": 129
        },
        "id": "g4HdJdUfb-ez",
        "outputId": "e32ca651-895b-4fc3-9a38-01a0b1c1175a"
      },
      "execution_count": null,
      "outputs": [
        {
          "output_type": "display_data",
          "data": {
            "text/html": [
              "<table class=\"dataframe\">\n",
              "<caption>A data.frame: 1 × 2</caption>\n",
              "<thead>\n",
              "\t<tr><th></th><th scope=col>average count</th><th scope=col>relative position</th></tr>\n",
              "\t<tr><th></th><th scope=col>&lt;dbl&gt;</th><th scope=col>&lt;int&gt;</th></tr>\n",
              "</thead>\n",
              "<tbody>\n",
              "\t<tr><th scope=row>3501</th><td>380.0439</td><td>3501</td></tr>\n",
              "</tbody>\n",
              "</table>\n"
            ],
            "text/markdown": "\nA data.frame: 1 × 2\n\n| <!--/--> | average count &lt;dbl&gt; | relative position &lt;int&gt; |\n|---|---|---|\n| 3501 | 380.0439 | 3501 |\n\n",
            "text/latex": "A data.frame: 1 × 2\n\\begin{tabular}{r|ll}\n  & average count & relative position\\\\\n  & <dbl> & <int>\\\\\n\\hline\n\t3501 & 380.0439 & 3501\\\\\n\\end{tabular}\n",
            "text/plain": [
              "     average count relative position\n",
              "3501 380.0439      3501             "
            ]
          },
          "metadata": {}
        }
      ]
    },
    {
      "cell_type": "code",
      "source": [
        "lib486_mu = lib486_mu %>% mutate(position = lib486_mu[,2] -3501)\n",
        "lib486_zi = lib486_zi %>% mutate(position = lib486_zi[,2] -3501)"
      ],
      "metadata": {
        "id": "c8OzKtMdLK5i"
      },
      "execution_count": null,
      "outputs": []
    },
    {
      "cell_type": "code",
      "source": [
        "head(lib486_mu)"
      ],
      "metadata": {
        "colab": {
          "base_uri": "https://localhost:8080/",
          "height": 286
        },
        "id": "BdZr0aPoMhl3",
        "outputId": "974a8d9e-08ff-41da-be9d-eaf4983e9dab"
      },
      "execution_count": null,
      "outputs": [
        {
          "output_type": "display_data",
          "data": {
            "text/html": [
              "<table class=\"dataframe\">\n",
              "<caption>A data.frame: 6 × 3</caption>\n",
              "<thead>\n",
              "\t<tr><th></th><th scope=col>average count</th><th scope=col>relative position</th><th scope=col>position</th></tr>\n",
              "\t<tr><th></th><th scope=col>&lt;dbl&gt;</th><th scope=col>&lt;int&gt;</th><th scope=col>&lt;dbl&gt;</th></tr>\n",
              "</thead>\n",
              "<tbody>\n",
              "\t<tr><th scope=row>1</th><td>NA</td><td>1</td><td>-3500</td></tr>\n",
              "\t<tr><th scope=row>2</th><td>NA</td><td>2</td><td>-3499</td></tr>\n",
              "\t<tr><th scope=row>3</th><td>NA</td><td>3</td><td>-3498</td></tr>\n",
              "\t<tr><th scope=row>4</th><td>NA</td><td>4</td><td>-3497</td></tr>\n",
              "\t<tr><th scope=row>5</th><td>NA</td><td>5</td><td>-3496</td></tr>\n",
              "\t<tr><th scope=row>6</th><td>NA</td><td>6</td><td>-3495</td></tr>\n",
              "</tbody>\n",
              "</table>\n"
            ],
            "text/markdown": "\nA data.frame: 6 × 3\n\n| <!--/--> | average count &lt;dbl&gt; | relative position &lt;int&gt; | position &lt;dbl&gt; |\n|---|---|---|---|\n| 1 | NA | 1 | -3500 |\n| 2 | NA | 2 | -3499 |\n| 3 | NA | 3 | -3498 |\n| 4 | NA | 4 | -3497 |\n| 5 | NA | 5 | -3496 |\n| 6 | NA | 6 | -3495 |\n\n",
            "text/latex": "A data.frame: 6 × 3\n\\begin{tabular}{r|lll}\n  & average count & relative position & position\\\\\n  & <dbl> & <int> & <dbl>\\\\\n\\hline\n\t1 & NA & 1 & -3500\\\\\n\t2 & NA & 2 & -3499\\\\\n\t3 & NA & 3 & -3498\\\\\n\t4 & NA & 4 & -3497\\\\\n\t5 & NA & 5 & -3496\\\\\n\t6 & NA & 6 & -3495\\\\\n\\end{tabular}\n",
            "text/plain": [
              "  average count relative position position\n",
              "1 NA            1                 -3500   \n",
              "2 NA            2                 -3499   \n",
              "3 NA            3                 -3498   \n",
              "4 NA            4                 -3497   \n",
              "5 NA            5                 -3496   \n",
              "6 NA            6                 -3495   "
            ]
          },
          "metadata": {}
        }
      ]
    },
    {
      "cell_type": "code",
      "source": [
        "head(lib486_zi)"
      ],
      "metadata": {
        "colab": {
          "base_uri": "https://localhost:8080/",
          "height": 286
        },
        "id": "G_HwulAUMlGW",
        "outputId": "871c4a85-6cf1-447d-90b7-0ece4bf9d21f"
      },
      "execution_count": null,
      "outputs": [
        {
          "output_type": "display_data",
          "data": {
            "text/html": [
              "<table class=\"dataframe\">\n",
              "<caption>A data.frame: 6 × 3</caption>\n",
              "<thead>\n",
              "\t<tr><th></th><th scope=col>average count</th><th scope=col>relative position</th><th scope=col>position</th></tr>\n",
              "\t<tr><th></th><th scope=col>&lt;dbl&gt;</th><th scope=col>&lt;int&gt;</th><th scope=col>&lt;dbl&gt;</th></tr>\n",
              "</thead>\n",
              "<tbody>\n",
              "\t<tr><th scope=row>1</th><td>NA</td><td>1</td><td>-3500</td></tr>\n",
              "\t<tr><th scope=row>2</th><td>NA</td><td>2</td><td>-3499</td></tr>\n",
              "\t<tr><th scope=row>3</th><td>NA</td><td>3</td><td>-3498</td></tr>\n",
              "\t<tr><th scope=row>4</th><td>NA</td><td>4</td><td>-3497</td></tr>\n",
              "\t<tr><th scope=row>5</th><td>NA</td><td>5</td><td>-3496</td></tr>\n",
              "\t<tr><th scope=row>6</th><td>NA</td><td>6</td><td>-3495</td></tr>\n",
              "</tbody>\n",
              "</table>\n"
            ],
            "text/markdown": "\nA data.frame: 6 × 3\n\n| <!--/--> | average count &lt;dbl&gt; | relative position &lt;int&gt; | position &lt;dbl&gt; |\n|---|---|---|---|\n| 1 | NA | 1 | -3500 |\n| 2 | NA | 2 | -3499 |\n| 3 | NA | 3 | -3498 |\n| 4 | NA | 4 | -3497 |\n| 5 | NA | 5 | -3496 |\n| 6 | NA | 6 | -3495 |\n\n",
            "text/latex": "A data.frame: 6 × 3\n\\begin{tabular}{r|lll}\n  & average count & relative position & position\\\\\n  & <dbl> & <int> & <dbl>\\\\\n\\hline\n\t1 & NA & 1 & -3500\\\\\n\t2 & NA & 2 & -3499\\\\\n\t3 & NA & 3 & -3498\\\\\n\t4 & NA & 4 & -3497\\\\\n\t5 & NA & 5 & -3496\\\\\n\t6 & NA & 6 & -3495\\\\\n\\end{tabular}\n",
            "text/plain": [
              "  average count relative position position\n",
              "1 NA            1                 -3500   \n",
              "2 NA            2                 -3499   \n",
              "3 NA            3                 -3498   \n",
              "4 NA            4                 -3497   \n",
              "5 NA            5                 -3496   \n",
              "6 NA            6                 -3495   "
            ]
          },
          "metadata": {}
        }
      ]
    },
    {
      "cell_type": "code",
      "source": [
        "lib486_mu[251,]"
      ],
      "metadata": {
        "colab": {
          "base_uri": "https://localhost:8080/",
          "height": 129
        },
        "id": "4HrBQ5V8cZtg",
        "outputId": "2f11ab9d-7a37-414c-ab04-fe2a6964ac1a"
      },
      "execution_count": null,
      "outputs": [
        {
          "output_type": "display_data",
          "data": {
            "text/html": [
              "<table class=\"dataframe\">\n",
              "<caption>A data.frame: 1 × 3</caption>\n",
              "<thead>\n",
              "\t<tr><th></th><th scope=col>average count</th><th scope=col>relative position</th><th scope=col>position</th></tr>\n",
              "\t<tr><th></th><th scope=col>&lt;dbl&gt;</th><th scope=col>&lt;int&gt;</th><th scope=col>&lt;dbl&gt;</th></tr>\n",
              "</thead>\n",
              "<tbody>\n",
              "\t<tr><th scope=row>251</th><td>376.7944</td><td>251</td><td>-3250</td></tr>\n",
              "</tbody>\n",
              "</table>\n"
            ],
            "text/markdown": "\nA data.frame: 1 × 3\n\n| <!--/--> | average count &lt;dbl&gt; | relative position &lt;int&gt; | position &lt;dbl&gt; |\n|---|---|---|---|\n| 251 | 376.7944 | 251 | -3250 |\n\n",
            "text/latex": "A data.frame: 1 × 3\n\\begin{tabular}{r|lll}\n  & average count & relative position & position\\\\\n  & <dbl> & <int> & <dbl>\\\\\n\\hline\n\t251 & 376.7944 & 251 & -3250\\\\\n\\end{tabular}\n",
            "text/plain": [
              "    average count relative position position\n",
              "251 376.7944      251               -3250   "
            ]
          },
          "metadata": {}
        }
      ]
    },
    {
      "cell_type": "code",
      "source": [
        "lib486_mu[5501,]"
      ],
      "metadata": {
        "colab": {
          "base_uri": "https://localhost:8080/",
          "height": 129
        },
        "id": "pOSuk1Q4d0Rn",
        "outputId": "03e7a720-b2c4-4a78-e120-3d984cd7370b"
      },
      "execution_count": null,
      "outputs": [
        {
          "output_type": "display_data",
          "data": {
            "text/html": [
              "<table class=\"dataframe\">\n",
              "<caption>A data.frame: 1 × 3</caption>\n",
              "<thead>\n",
              "\t<tr><th></th><th scope=col>average count</th><th scope=col>relative position</th><th scope=col>position</th></tr>\n",
              "\t<tr><th></th><th scope=col>&lt;dbl&gt;</th><th scope=col>&lt;int&gt;</th><th scope=col>&lt;dbl&gt;</th></tr>\n",
              "</thead>\n",
              "<tbody>\n",
              "\t<tr><th scope=row>5501</th><td>371.2894</td><td>5501</td><td>2000</td></tr>\n",
              "</tbody>\n",
              "</table>\n"
            ],
            "text/markdown": "\nA data.frame: 1 × 3\n\n| <!--/--> | average count &lt;dbl&gt; | relative position &lt;int&gt; | position &lt;dbl&gt; |\n|---|---|---|---|\n| 5501 | 371.2894 | 5501 | 2000 |\n\n",
            "text/latex": "A data.frame: 1 × 3\n\\begin{tabular}{r|lll}\n  & average count & relative position & position\\\\\n  & <dbl> & <int> & <dbl>\\\\\n\\hline\n\t5501 & 371.2894 & 5501 & 2000\\\\\n\\end{tabular}\n",
            "text/plain": [
              "     average count relative position position\n",
              "5501 371.2894      5501              2000    "
            ]
          },
          "metadata": {}
        }
      ]
    },
    {
      "cell_type": "code",
      "source": [
        "dim(lib486_mu)"
      ],
      "metadata": {
        "colab": {
          "base_uri": "https://localhost:8080/",
          "height": 34
        },
        "id": "N0iyVKSZfI91",
        "outputId": "f82129aa-2b22-4e8a-b492-1ff67d27cbcc"
      },
      "execution_count": null,
      "outputs": [
        {
          "output_type": "display_data",
          "data": {
            "text/html": [
              "<style>\n",
              ".list-inline {list-style: none; margin:0; padding: 0}\n",
              ".list-inline>li {display: inline-block}\n",
              ".list-inline>li:not(:last-child)::after {content: \"\\00b7\"; padding: 0 .5ex}\n",
              "</style>\n",
              "<ol class=list-inline><li>7002</li><li>3</li></ol>\n"
            ],
            "text/markdown": "1. 7002\n2. 3\n\n\n",
            "text/latex": "\\begin{enumerate*}\n\\item 7002\n\\item 3\n\\end{enumerate*}\n",
            "text/plain": [
              "[1] 7002    3"
            ]
          },
          "metadata": {}
        }
      ]
    },
    {
      "cell_type": "code",
      "source": [
        "lib486_fenmu_1 <- data.frame(\n",
        "  x = numeric(0)\n",
        ")\n",
        "\n",
        "for (i in 251:1251) {\n",
        "  # access the ith row of the dataframe\n",
        "  row_i <- lib486_mu[i, ]\n",
        "  row <- row_i$\"average count\"\n",
        "\n",
        "  lib486_fenmu_1 <- rbind(lib486_fenmu_1, c(row))\n",
        "}\n",
        "\n",
        "lib486_fenmu_2 <- data.frame(\n",
        "  x = numeric(0)\n",
        ")\n",
        "\n",
        "for (i in 251:1251) {\n",
        "  # access the ith row of the dataframe\n",
        "  row_j <- lib486_mu[i+5500,]\n",
        "  row <- row_j$\"average count\"\n",
        "\n",
        "  lib486_fenmu_2 <- rbind(lib486_fenmu_2, c(row))\n",
        "}"
      ],
      "metadata": {
        "id": "bPL4a5IdkbPB"
      },
      "execution_count": null,
      "outputs": []
    },
    {
      "cell_type": "code",
      "source": [
        "dim(lib486_fenmu_2)"
      ],
      "metadata": {
        "id": "_ZCt51yPO-f-",
        "colab": {
          "base_uri": "https://localhost:8080/",
          "height": 34
        },
        "outputId": "de6c6345-00da-4a9f-f305-64d24e8b0514"
      },
      "execution_count": null,
      "outputs": [
        {
          "output_type": "display_data",
          "data": {
            "text/html": [
              "<style>\n",
              ".list-inline {list-style: none; margin:0; padding: 0}\n",
              ".list-inline>li {display: inline-block}\n",
              ".list-inline>li:not(:last-child)::after {content: \"\\00b7\"; padding: 0 .5ex}\n",
              "</style>\n",
              "<ol class=list-inline><li>1001</li><li>1</li></ol>\n"
            ],
            "text/markdown": "1. 1001\n2. 1\n\n\n",
            "text/latex": "\\begin{enumerate*}\n\\item 1001\n\\item 1\n\\end{enumerate*}\n",
            "text/plain": [
              "[1] 1001    1"
            ]
          },
          "metadata": {}
        }
      ]
    },
    {
      "cell_type": "code",
      "source": [
        "colnames(lib486_fenmu_1) = c( \"average count_1\")\n",
        "colnames(lib486_fenmu_2) = c( \"average count_2\")"
      ],
      "metadata": {
        "id": "ps2spmsLhAIL"
      },
      "execution_count": null,
      "outputs": []
    },
    {
      "cell_type": "code",
      "source": [
        "dim(lib486_fenmu_1)"
      ],
      "metadata": {
        "id": "37k724dlSEFS",
        "colab": {
          "base_uri": "https://localhost:8080/",
          "height": 34
        },
        "outputId": "443efade-6107-4bbc-f7d0-a1c5c51c77f4"
      },
      "execution_count": null,
      "outputs": [
        {
          "output_type": "display_data",
          "data": {
            "text/html": [
              "<style>\n",
              ".list-inline {list-style: none; margin:0; padding: 0}\n",
              ".list-inline>li {display: inline-block}\n",
              ".list-inline>li:not(:last-child)::after {content: \"\\00b7\"; padding: 0 .5ex}\n",
              "</style>\n",
              "<ol class=list-inline><li>1001</li><li>1</li></ol>\n"
            ],
            "text/markdown": "1. 1001\n2. 1\n\n\n",
            "text/latex": "\\begin{enumerate*}\n\\item 1001\n\\item 1\n\\end{enumerate*}\n",
            "text/plain": [
              "[1] 1001    1"
            ]
          },
          "metadata": {}
        }
      ]
    },
    {
      "cell_type": "code",
      "source": [
        "head(lib486_fenmu_1)"
      ],
      "metadata": {
        "colab": {
          "base_uri": "https://localhost:8080/",
          "height": 286
        },
        "id": "ugw3g7xcSHsx",
        "outputId": "fc9d810a-4ca7-4dea-cd38-ba809dc1c14e"
      },
      "execution_count": null,
      "outputs": [
        {
          "output_type": "display_data",
          "data": {
            "text/html": [
              "<table class=\"dataframe\">\n",
              "<caption>A data.frame: 6 × 1</caption>\n",
              "<thead>\n",
              "\t<tr><th></th><th scope=col>average count_1</th></tr>\n",
              "\t<tr><th></th><th scope=col>&lt;dbl&gt;</th></tr>\n",
              "</thead>\n",
              "<tbody>\n",
              "\t<tr><th scope=row>1</th><td>376.7944</td></tr>\n",
              "\t<tr><th scope=row>2</th><td>376.7944</td></tr>\n",
              "\t<tr><th scope=row>3</th><td>376.7804</td></tr>\n",
              "\t<tr><th scope=row>4</th><td>376.7605</td></tr>\n",
              "\t<tr><th scope=row>5</th><td>376.7445</td></tr>\n",
              "\t<tr><th scope=row>6</th><td>376.7365</td></tr>\n",
              "</tbody>\n",
              "</table>\n"
            ],
            "text/markdown": "\nA data.frame: 6 × 1\n\n| <!--/--> | average count_1 &lt;dbl&gt; |\n|---|---|\n| 1 | 376.7944 |\n| 2 | 376.7944 |\n| 3 | 376.7804 |\n| 4 | 376.7605 |\n| 5 | 376.7445 |\n| 6 | 376.7365 |\n\n",
            "text/latex": "A data.frame: 6 × 1\n\\begin{tabular}{r|l}\n  & average count\\_1\\\\\n  & <dbl>\\\\\n\\hline\n\t1 & 376.7944\\\\\n\t2 & 376.7944\\\\\n\t3 & 376.7804\\\\\n\t4 & 376.7605\\\\\n\t5 & 376.7445\\\\\n\t6 & 376.7365\\\\\n\\end{tabular}\n",
            "text/plain": [
              "  average count_1\n",
              "1 376.7944       \n",
              "2 376.7944       \n",
              "3 376.7804       \n",
              "4 376.7605       \n",
              "5 376.7445       \n",
              "6 376.7365       "
            ]
          },
          "metadata": {}
        }
      ]
    },
    {
      "cell_type": "code",
      "source": [
        "dim(lib486_zi)"
      ],
      "metadata": {
        "colab": {
          "base_uri": "https://localhost:8080/",
          "height": 34
        },
        "id": "qOQtbEZ-fd9j",
        "outputId": "e43ca1da-7620-46df-aec2-09a84d1f69e7"
      },
      "execution_count": null,
      "outputs": [
        {
          "output_type": "display_data",
          "data": {
            "text/html": [
              "<style>\n",
              ".list-inline {list-style: none; margin:0; padding: 0}\n",
              ".list-inline>li {display: inline-block}\n",
              ".list-inline>li:not(:last-child)::after {content: \"\\00b7\"; padding: 0 .5ex}\n",
              "</style>\n",
              "<ol class=list-inline><li>7002</li><li>3</li></ol>\n"
            ],
            "text/markdown": "1. 7002\n2. 3\n\n\n",
            "text/latex": "\\begin{enumerate*}\n\\item 7002\n\\item 3\n\\end{enumerate*}\n",
            "text/plain": [
              "[1] 7002    3"
            ]
          },
          "metadata": {}
        }
      ]
    },
    {
      "cell_type": "code",
      "source": [
        "head(lib486_zi)"
      ],
      "metadata": {
        "colab": {
          "base_uri": "https://localhost:8080/",
          "height": 286
        },
        "id": "H1XqEYv3fg48",
        "outputId": "0b79bca8-f164-4ff6-a760-208a7b3d34a2"
      },
      "execution_count": null,
      "outputs": [
        {
          "output_type": "display_data",
          "data": {
            "text/html": [
              "<table class=\"dataframe\">\n",
              "<caption>A data.frame: 6 × 3</caption>\n",
              "<thead>\n",
              "\t<tr><th></th><th scope=col>average count</th><th scope=col>relative position</th><th scope=col>position</th></tr>\n",
              "\t<tr><th></th><th scope=col>&lt;dbl&gt;</th><th scope=col>&lt;int&gt;</th><th scope=col>&lt;dbl&gt;</th></tr>\n",
              "</thead>\n",
              "<tbody>\n",
              "\t<tr><th scope=row>1</th><td>NA</td><td>1</td><td>-3500</td></tr>\n",
              "\t<tr><th scope=row>2</th><td>NA</td><td>2</td><td>-3499</td></tr>\n",
              "\t<tr><th scope=row>3</th><td>NA</td><td>3</td><td>-3498</td></tr>\n",
              "\t<tr><th scope=row>4</th><td>NA</td><td>4</td><td>-3497</td></tr>\n",
              "\t<tr><th scope=row>5</th><td>NA</td><td>5</td><td>-3496</td></tr>\n",
              "\t<tr><th scope=row>6</th><td>NA</td><td>6</td><td>-3495</td></tr>\n",
              "</tbody>\n",
              "</table>\n"
            ],
            "text/markdown": "\nA data.frame: 6 × 3\n\n| <!--/--> | average count &lt;dbl&gt; | relative position &lt;int&gt; | position &lt;dbl&gt; |\n|---|---|---|---|\n| 1 | NA | 1 | -3500 |\n| 2 | NA | 2 | -3499 |\n| 3 | NA | 3 | -3498 |\n| 4 | NA | 4 | -3497 |\n| 5 | NA | 5 | -3496 |\n| 6 | NA | 6 | -3495 |\n\n",
            "text/latex": "A data.frame: 6 × 3\n\\begin{tabular}{r|lll}\n  & average count & relative position & position\\\\\n  & <dbl> & <int> & <dbl>\\\\\n\\hline\n\t1 & NA & 1 & -3500\\\\\n\t2 & NA & 2 & -3499\\\\\n\t3 & NA & 3 & -3498\\\\\n\t4 & NA & 4 & -3497\\\\\n\t5 & NA & 5 & -3496\\\\\n\t6 & NA & 6 & -3495\\\\\n\\end{tabular}\n",
            "text/plain": [
              "  average count relative position position\n",
              "1 NA            1                 -3500   \n",
              "2 NA            2                 -3499   \n",
              "3 NA            3                 -3498   \n",
              "4 NA            4                 -3497   \n",
              "5 NA            5                 -3496   \n",
              "6 NA            6                 -3495   "
            ]
          },
          "metadata": {}
        }
      ]
    },
    {
      "cell_type": "code",
      "source": [
        "lib486_zi[4001,]"
      ],
      "metadata": {
        "colab": {
          "base_uri": "https://localhost:8080/",
          "height": 129
        },
        "id": "KbACqln1flC6",
        "outputId": "2342eafc-01f1-4990-e228-81f93ad6094b"
      },
      "execution_count": null,
      "outputs": [
        {
          "output_type": "display_data",
          "data": {
            "text/html": [
              "<table class=\"dataframe\">\n",
              "<caption>A data.frame: 1 × 3</caption>\n",
              "<thead>\n",
              "\t<tr><th></th><th scope=col>average count</th><th scope=col>relative position</th><th scope=col>position</th></tr>\n",
              "\t<tr><th></th><th scope=col>&lt;dbl&gt;</th><th scope=col>&lt;int&gt;</th><th scope=col>&lt;dbl&gt;</th></tr>\n",
              "</thead>\n",
              "<tbody>\n",
              "\t<tr><th scope=row>4001</th><td>353.6766</td><td>4001</td><td>500</td></tr>\n",
              "</tbody>\n",
              "</table>\n"
            ],
            "text/markdown": "\nA data.frame: 1 × 3\n\n| <!--/--> | average count &lt;dbl&gt; | relative position &lt;int&gt; | position &lt;dbl&gt; |\n|---|---|---|---|\n| 4001 | 353.6766 | 4001 | 500 |\n\n",
            "text/latex": "A data.frame: 1 × 3\n\\begin{tabular}{r|lll}\n  & average count & relative position & position\\\\\n  & <dbl> & <int> & <dbl>\\\\\n\\hline\n\t4001 & 353.6766 & 4001 & 500\\\\\n\\end{tabular}\n",
            "text/plain": [
              "     average count relative position position\n",
              "4001 353.6766      4001              500     "
            ]
          },
          "metadata": {}
        }
      ]
    },
    {
      "cell_type": "code",
      "source": [
        "lib486_fenzi <- data.frame(\n",
        "  x = numeric(0)\n",
        ")\n",
        "\n",
        "for (i in 3001:4001) {\n",
        "  # access the ith row of the dataframe\n",
        "  row_i <- lib486_zi[i, ]$\"average count\"\n",
        "\n",
        "  lib486_fenzi <- rbind(lib486_fenzi, c(row_i))\n",
        "}\n",
        "\n"
      ],
      "metadata": {
        "id": "Q2hY9KUsvtAg"
      },
      "execution_count": null,
      "outputs": []
    },
    {
      "cell_type": "code",
      "source": [
        "colnames(lib486_fenzi) = c( \"average count\")\n",
        "lib486_fenzi"
      ],
      "metadata": {
        "id": "sgpH-3pVQzHO"
      },
      "execution_count": null,
      "outputs": []
    },
    {
      "cell_type": "code",
      "source": [
        "dim(lib486_fenzi)"
      ],
      "metadata": {
        "colab": {
          "base_uri": "https://localhost:8080/",
          "height": 34
        },
        "id": "PvOhGpjISLxC",
        "outputId": "a15e410a-6fdc-4809-d26d-5ec88a080a9e"
      },
      "execution_count": null,
      "outputs": [
        {
          "output_type": "display_data",
          "data": {
            "text/html": [
              "<style>\n",
              ".list-inline {list-style: none; margin:0; padding: 0}\n",
              ".list-inline>li {display: inline-block}\n",
              ".list-inline>li:not(:last-child)::after {content: \"\\00b7\"; padding: 0 .5ex}\n",
              "</style>\n",
              "<ol class=list-inline><li>1001</li><li>1</li></ol>\n"
            ],
            "text/markdown": "1. 1001\n2. 1\n\n\n",
            "text/latex": "\\begin{enumerate*}\n\\item 1001\n\\item 1\n\\end{enumerate*}\n",
            "text/plain": [
              "[1] 1001    1"
            ]
          },
          "metadata": {}
        }
      ]
    },
    {
      "cell_type": "code",
      "source": [
        "head(lib486_fenmu_1)"
      ],
      "metadata": {
        "colab": {
          "base_uri": "https://localhost:8080/",
          "height": 286
        },
        "id": "30ZJjc6yilsr",
        "outputId": "de543db9-4913-4325-89cc-d5f0a27384d3"
      },
      "execution_count": null,
      "outputs": [
        {
          "output_type": "display_data",
          "data": {
            "text/html": [
              "<table class=\"dataframe\">\n",
              "<caption>A data.frame: 6 × 1</caption>\n",
              "<thead>\n",
              "\t<tr><th></th><th scope=col>average count_1</th></tr>\n",
              "\t<tr><th></th><th scope=col>&lt;dbl&gt;</th></tr>\n",
              "</thead>\n",
              "<tbody>\n",
              "\t<tr><th scope=row>1</th><td>386.9830</td></tr>\n",
              "\t<tr><th scope=row>2</th><td>386.9990</td></tr>\n",
              "\t<tr><th scope=row>3</th><td>387.0080</td></tr>\n",
              "\t<tr><th scope=row>4</th><td>387.0120</td></tr>\n",
              "\t<tr><th scope=row>5</th><td>387.0210</td></tr>\n",
              "\t<tr><th scope=row>6</th><td>387.0399</td></tr>\n",
              "</tbody>\n",
              "</table>\n"
            ],
            "text/markdown": "\nA data.frame: 6 × 1\n\n| <!--/--> | average count_1 &lt;dbl&gt; |\n|---|---|\n| 1 | 386.9830 |\n| 2 | 386.9990 |\n| 3 | 387.0080 |\n| 4 | 387.0120 |\n| 5 | 387.0210 |\n| 6 | 387.0399 |\n\n",
            "text/latex": "A data.frame: 6 × 1\n\\begin{tabular}{r|l}\n  & average count\\_1\\\\\n  & <dbl>\\\\\n\\hline\n\t1 & 386.9830\\\\\n\t2 & 386.9990\\\\\n\t3 & 387.0080\\\\\n\t4 & 387.0120\\\\\n\t5 & 387.0210\\\\\n\t6 & 387.0399\\\\\n\\end{tabular}\n",
            "text/plain": [
              "  average count_1\n",
              "1 386.9830       \n",
              "2 386.9990       \n",
              "3 387.0080       \n",
              "4 387.0120       \n",
              "5 387.0210       \n",
              "6 387.0399       "
            ]
          },
          "metadata": {}
        }
      ]
    },
    {
      "cell_type": "code",
      "source": [
        "dim(lib486_fenzi)"
      ],
      "metadata": {
        "colab": {
          "base_uri": "https://localhost:8080/",
          "height": 34
        },
        "id": "ipDFfrfiipF5",
        "outputId": "380fad02-085d-43d6-c465-1bdbca51bea4"
      },
      "execution_count": null,
      "outputs": [
        {
          "output_type": "display_data",
          "data": {
            "text/html": [
              "<style>\n",
              ".list-inline {list-style: none; margin:0; padding: 0}\n",
              ".list-inline>li {display: inline-block}\n",
              ".list-inline>li:not(:last-child)::after {content: \"\\00b7\"; padding: 0 .5ex}\n",
              "</style>\n",
              "<ol class=list-inline><li>1001</li><li>1</li></ol>\n"
            ],
            "text/markdown": "1. 1001\n2. 1\n\n\n",
            "text/latex": "\\begin{enumerate*}\n\\item 1001\n\\item 1\n\\end{enumerate*}\n",
            "text/plain": [
              "[1] 1001    1"
            ]
          },
          "metadata": {}
        }
      ]
    },
    {
      "cell_type": "code",
      "source": [
        "lib486_fenmu_1"
      ],
      "metadata": {
        "id": "UuNiq1nVi9mX"
      },
      "execution_count": null,
      "outputs": []
    },
    {
      "cell_type": "code",
      "source": [
        "lib486_total <- cbind(lib486_fenzi,lib486_fenmu_1$\"average count_1\",lib486_fenmu_2$\"average count_2\" )"
      ],
      "metadata": {
        "id": "sdDSJPf5x41P"
      },
      "execution_count": null,
      "outputs": []
    },
    {
      "cell_type": "code",
      "source": [
        "colnames(lib486_total) <- c(\"Numerator\", \"Denominator_1\",\"Denominator_2\")"
      ],
      "metadata": {
        "id": "iGzS9LkTzX3e"
      },
      "execution_count": null,
      "outputs": []
    },
    {
      "cell_type": "code",
      "source": [
        "head(lib486_total)"
      ],
      "metadata": {
        "colab": {
          "base_uri": "https://localhost:8080/",
          "height": 286
        },
        "id": "xNGtVtYRSax4",
        "outputId": "8ea1c92a-3755-40be-c1cc-71f39231bd5d"
      },
      "execution_count": null,
      "outputs": [
        {
          "output_type": "display_data",
          "data": {
            "text/html": [
              "<table class=\"dataframe\">\n",
              "<caption>A data.frame: 6 × 3</caption>\n",
              "<thead>\n",
              "\t<tr><th></th><th scope=col>Numerator</th><th scope=col>Denominator_1</th><th scope=col>Denominator_2</th></tr>\n",
              "\t<tr><th></th><th scope=col>&lt;dbl&gt;</th><th scope=col>&lt;dbl&gt;</th><th scope=col>&lt;dbl&gt;</th></tr>\n",
              "</thead>\n",
              "<tbody>\n",
              "\t<tr><th scope=row>1</th><td>379.3980</td><td>376.7944</td><td>397.1717</td></tr>\n",
              "\t<tr><th scope=row>2</th><td>379.4030</td><td>376.7944</td><td>397.2036</td></tr>\n",
              "\t<tr><th scope=row>3</th><td>379.3632</td><td>376.7804</td><td>397.2355</td></tr>\n",
              "\t<tr><th scope=row>4</th><td>379.3284</td><td>376.7605</td><td>397.2635</td></tr>\n",
              "\t<tr><th scope=row>5</th><td>379.2886</td><td>376.7445</td><td>397.2974</td></tr>\n",
              "\t<tr><th scope=row>6</th><td>379.2637</td><td>376.7365</td><td>397.3433</td></tr>\n",
              "</tbody>\n",
              "</table>\n"
            ],
            "text/markdown": "\nA data.frame: 6 × 3\n\n| <!--/--> | Numerator &lt;dbl&gt; | Denominator_1 &lt;dbl&gt; | Denominator_2 &lt;dbl&gt; |\n|---|---|---|---|\n| 1 | 379.3980 | 376.7944 | 397.1717 |\n| 2 | 379.4030 | 376.7944 | 397.2036 |\n| 3 | 379.3632 | 376.7804 | 397.2355 |\n| 4 | 379.3284 | 376.7605 | 397.2635 |\n| 5 | 379.2886 | 376.7445 | 397.2974 |\n| 6 | 379.2637 | 376.7365 | 397.3433 |\n\n",
            "text/latex": "A data.frame: 6 × 3\n\\begin{tabular}{r|lll}\n  & Numerator & Denominator\\_1 & Denominator\\_2\\\\\n  & <dbl> & <dbl> & <dbl>\\\\\n\\hline\n\t1 & 379.3980 & 376.7944 & 397.1717\\\\\n\t2 & 379.4030 & 376.7944 & 397.2036\\\\\n\t3 & 379.3632 & 376.7804 & 397.2355\\\\\n\t4 & 379.3284 & 376.7605 & 397.2635\\\\\n\t5 & 379.2886 & 376.7445 & 397.2974\\\\\n\t6 & 379.2637 & 376.7365 & 397.3433\\\\\n\\end{tabular}\n",
            "text/plain": [
              "  Numerator Denominator_1 Denominator_2\n",
              "1 379.3980  376.7944      397.1717     \n",
              "2 379.4030  376.7944      397.2036     \n",
              "3 379.3632  376.7804      397.2355     \n",
              "4 379.3284  376.7605      397.2635     \n",
              "5 379.2886  376.7445      397.2974     \n",
              "6 379.2637  376.7365      397.3433     "
            ]
          },
          "metadata": {}
        }
      ]
    },
    {
      "cell_type": "code",
      "source": [
        "lib486_total = lib486_total %>% mutate(Relative_fraction_1 = Numerator/Denominator_1)"
      ],
      "metadata": {
        "id": "WMpydnxdT_DY"
      },
      "execution_count": null,
      "outputs": []
    },
    {
      "cell_type": "code",
      "source": [
        "lib486_total = lib486_total %>% mutate(Relative_fraction_2 = Numerator/Denominator_2)"
      ],
      "metadata": {
        "id": "F15ZgTQRUK4C"
      },
      "execution_count": null,
      "outputs": []
    },
    {
      "cell_type": "code",
      "source": [
        "head(lib486_total)"
      ],
      "metadata": {
        "colab": {
          "base_uri": "https://localhost:8080/",
          "height": 286
        },
        "id": "d039AdS0kK1y",
        "outputId": "43ba8ac3-d10c-4018-a646-04700e374d27"
      },
      "execution_count": null,
      "outputs": [
        {
          "output_type": "display_data",
          "data": {
            "text/html": [
              "<table class=\"dataframe\">\n",
              "<caption>A data.frame: 6 × 5</caption>\n",
              "<thead>\n",
              "\t<tr><th></th><th scope=col>Numerator</th><th scope=col>Denominator_1</th><th scope=col>Denominator_2</th><th scope=col>Relative_fraction_1</th><th scope=col>Relative_fraction_2</th></tr>\n",
              "\t<tr><th></th><th scope=col>&lt;dbl&gt;</th><th scope=col>&lt;dbl&gt;</th><th scope=col>&lt;dbl&gt;</th><th scope=col>&lt;dbl&gt;</th><th scope=col>&lt;dbl&gt;</th></tr>\n",
              "</thead>\n",
              "<tbody>\n",
              "\t<tr><th scope=row>1</th><td>379.3980</td><td>376.7944</td><td>397.1717</td><td>1.006910</td><td>0.9552495</td></tr>\n",
              "\t<tr><th scope=row>2</th><td>379.4030</td><td>376.7944</td><td>397.2036</td><td>1.006923</td><td>0.9551852</td></tr>\n",
              "\t<tr><th scope=row>3</th><td>379.3632</td><td>376.7804</td><td>397.2355</td><td>1.006855</td><td>0.9550082</td></tr>\n",
              "\t<tr><th scope=row>4</th><td>379.3284</td><td>376.7605</td><td>397.2635</td><td>1.006816</td><td>0.9548534</td></tr>\n",
              "\t<tr><th scope=row>5</th><td>379.2886</td><td>376.7445</td><td>397.2974</td><td>1.006753</td><td>0.9546716</td></tr>\n",
              "\t<tr><th scope=row>6</th><td>379.2637</td><td>376.7365</td><td>397.3433</td><td>1.006708</td><td>0.9544987</td></tr>\n",
              "</tbody>\n",
              "</table>\n"
            ],
            "text/markdown": "\nA data.frame: 6 × 5\n\n| <!--/--> | Numerator &lt;dbl&gt; | Denominator_1 &lt;dbl&gt; | Denominator_2 &lt;dbl&gt; | Relative_fraction_1 &lt;dbl&gt; | Relative_fraction_2 &lt;dbl&gt; |\n|---|---|---|---|---|---|\n| 1 | 379.3980 | 376.7944 | 397.1717 | 1.006910 | 0.9552495 |\n| 2 | 379.4030 | 376.7944 | 397.2036 | 1.006923 | 0.9551852 |\n| 3 | 379.3632 | 376.7804 | 397.2355 | 1.006855 | 0.9550082 |\n| 4 | 379.3284 | 376.7605 | 397.2635 | 1.006816 | 0.9548534 |\n| 5 | 379.2886 | 376.7445 | 397.2974 | 1.006753 | 0.9546716 |\n| 6 | 379.2637 | 376.7365 | 397.3433 | 1.006708 | 0.9544987 |\n\n",
            "text/latex": "A data.frame: 6 × 5\n\\begin{tabular}{r|lllll}\n  & Numerator & Denominator\\_1 & Denominator\\_2 & Relative\\_fraction\\_1 & Relative\\_fraction\\_2\\\\\n  & <dbl> & <dbl> & <dbl> & <dbl> & <dbl>\\\\\n\\hline\n\t1 & 379.3980 & 376.7944 & 397.1717 & 1.006910 & 0.9552495\\\\\n\t2 & 379.4030 & 376.7944 & 397.2036 & 1.006923 & 0.9551852\\\\\n\t3 & 379.3632 & 376.7804 & 397.2355 & 1.006855 & 0.9550082\\\\\n\t4 & 379.3284 & 376.7605 & 397.2635 & 1.006816 & 0.9548534\\\\\n\t5 & 379.2886 & 376.7445 & 397.2974 & 1.006753 & 0.9546716\\\\\n\t6 & 379.2637 & 376.7365 & 397.3433 & 1.006708 & 0.9544987\\\\\n\\end{tabular}\n",
            "text/plain": [
              "  Numerator Denominator_1 Denominator_2 Relative_fraction_1 Relative_fraction_2\n",
              "1 379.3980  376.7944      397.1717      1.006910            0.9552495          \n",
              "2 379.4030  376.7944      397.2036      1.006923            0.9551852          \n",
              "3 379.3632  376.7804      397.2355      1.006855            0.9550082          \n",
              "4 379.3284  376.7605      397.2635      1.006816            0.9548534          \n",
              "5 379.2886  376.7445      397.2974      1.006753            0.9546716          \n",
              "6 379.2637  376.7365      397.3433      1.006708            0.9544987          "
            ]
          },
          "metadata": {}
        }
      ]
    },
    {
      "cell_type": "code",
      "source": [
        "lib486_total = lib486_total %>% mutate(Relative_fraction = (Relative_fraction_1 + Relative_fraction_2)/2)"
      ],
      "metadata": {
        "id": "zYgfzNczrZ2S"
      },
      "execution_count": null,
      "outputs": []
    },
    {
      "cell_type": "code",
      "source": [
        "head(lib486_total)"
      ],
      "metadata": {
        "colab": {
          "base_uri": "https://localhost:8080/",
          "height": 286
        },
        "id": "0PPyIWdVrh88",
        "outputId": "f3b75f96-e089-45e5-8b88-0de2d54d64d3"
      },
      "execution_count": null,
      "outputs": [
        {
          "output_type": "display_data",
          "data": {
            "text/html": [
              "<table class=\"dataframe\">\n",
              "<caption>A data.frame: 6 × 6</caption>\n",
              "<thead>\n",
              "\t<tr><th></th><th scope=col>Numerator</th><th scope=col>Denominator_1</th><th scope=col>Denominator_2</th><th scope=col>Relative_fraction_1</th><th scope=col>Relative_fraction_2</th><th scope=col>Relative_fraction</th></tr>\n",
              "\t<tr><th></th><th scope=col>&lt;dbl&gt;</th><th scope=col>&lt;dbl&gt;</th><th scope=col>&lt;dbl&gt;</th><th scope=col>&lt;dbl&gt;</th><th scope=col>&lt;dbl&gt;</th><th scope=col>&lt;dbl&gt;</th></tr>\n",
              "</thead>\n",
              "<tbody>\n",
              "\t<tr><th scope=row>1</th><td>379.3980</td><td>376.7944</td><td>397.1717</td><td>1.006910</td><td>0.9552495</td><td>0.9810797</td></tr>\n",
              "\t<tr><th scope=row>2</th><td>379.4030</td><td>376.7944</td><td>397.2036</td><td>1.006923</td><td>0.9551852</td><td>0.9810541</td></tr>\n",
              "\t<tr><th scope=row>3</th><td>379.3632</td><td>376.7804</td><td>397.2355</td><td>1.006855</td><td>0.9550082</td><td>0.9809315</td></tr>\n",
              "\t<tr><th scope=row>4</th><td>379.3284</td><td>376.7605</td><td>397.2635</td><td>1.006816</td><td>0.9548534</td><td>0.9808345</td></tr>\n",
              "\t<tr><th scope=row>5</th><td>379.2886</td><td>376.7445</td><td>397.2974</td><td>1.006753</td><td>0.9546716</td><td>0.9807122</td></tr>\n",
              "\t<tr><th scope=row>6</th><td>379.2637</td><td>376.7365</td><td>397.3433</td><td>1.006708</td><td>0.9544987</td><td>0.9806034</td></tr>\n",
              "</tbody>\n",
              "</table>\n"
            ],
            "text/markdown": "\nA data.frame: 6 × 6\n\n| <!--/--> | Numerator &lt;dbl&gt; | Denominator_1 &lt;dbl&gt; | Denominator_2 &lt;dbl&gt; | Relative_fraction_1 &lt;dbl&gt; | Relative_fraction_2 &lt;dbl&gt; | Relative_fraction &lt;dbl&gt; |\n|---|---|---|---|---|---|---|\n| 1 | 379.3980 | 376.7944 | 397.1717 | 1.006910 | 0.9552495 | 0.9810797 |\n| 2 | 379.4030 | 376.7944 | 397.2036 | 1.006923 | 0.9551852 | 0.9810541 |\n| 3 | 379.3632 | 376.7804 | 397.2355 | 1.006855 | 0.9550082 | 0.9809315 |\n| 4 | 379.3284 | 376.7605 | 397.2635 | 1.006816 | 0.9548534 | 0.9808345 |\n| 5 | 379.2886 | 376.7445 | 397.2974 | 1.006753 | 0.9546716 | 0.9807122 |\n| 6 | 379.2637 | 376.7365 | 397.3433 | 1.006708 | 0.9544987 | 0.9806034 |\n\n",
            "text/latex": "A data.frame: 6 × 6\n\\begin{tabular}{r|llllll}\n  & Numerator & Denominator\\_1 & Denominator\\_2 & Relative\\_fraction\\_1 & Relative\\_fraction\\_2 & Relative\\_fraction\\\\\n  & <dbl> & <dbl> & <dbl> & <dbl> & <dbl> & <dbl>\\\\\n\\hline\n\t1 & 379.3980 & 376.7944 & 397.1717 & 1.006910 & 0.9552495 & 0.9810797\\\\\n\t2 & 379.4030 & 376.7944 & 397.2036 & 1.006923 & 0.9551852 & 0.9810541\\\\\n\t3 & 379.3632 & 376.7804 & 397.2355 & 1.006855 & 0.9550082 & 0.9809315\\\\\n\t4 & 379.3284 & 376.7605 & 397.2635 & 1.006816 & 0.9548534 & 0.9808345\\\\\n\t5 & 379.2886 & 376.7445 & 397.2974 & 1.006753 & 0.9546716 & 0.9807122\\\\\n\t6 & 379.2637 & 376.7365 & 397.3433 & 1.006708 & 0.9544987 & 0.9806034\\\\\n\\end{tabular}\n",
            "text/plain": [
              "  Numerator Denominator_1 Denominator_2 Relative_fraction_1 Relative_fraction_2\n",
              "1 379.3980  376.7944      397.1717      1.006910            0.9552495          \n",
              "2 379.4030  376.7944      397.2036      1.006923            0.9551852          \n",
              "3 379.3632  376.7804      397.2355      1.006855            0.9550082          \n",
              "4 379.3284  376.7605      397.2635      1.006816            0.9548534          \n",
              "5 379.2886  376.7445      397.2974      1.006753            0.9546716          \n",
              "6 379.2637  376.7365      397.3433      1.006708            0.9544987          \n",
              "  Relative_fraction\n",
              "1 0.9810797        \n",
              "2 0.9810541        \n",
              "3 0.9809315        \n",
              "4 0.9808345        \n",
              "5 0.9807122        \n",
              "6 0.9806034        "
            ]
          },
          "metadata": {}
        }
      ]
    },
    {
      "cell_type": "code",
      "source": [
        "seq_num <- seq(from = -500, to = 500)\n",
        "relative_position <- data.frame(Sequential_Numbers = seq_num)\n",
        "#test <- cbind(relative_position,lib486_total$\"Relative_fraction\" )"
      ],
      "metadata": {
        "id": "3xjg1xlHpKep"
      },
      "execution_count": null,
      "outputs": []
    },
    {
      "cell_type": "code",
      "source": [
        "standardized_data1"
      ],
      "metadata": {
        "id": "dNZf7BQvqEH9"
      },
      "execution_count": null,
      "outputs": []
    },
    {
      "cell_type": "code",
      "source": [
        "ggplot(test, aes(x = Sequential_Numbers, y = lib486_total$Relative_fraction)) + \n",
        "  geom_line()  "
      ],
      "metadata": {
        "colab": {
          "base_uri": "https://localhost:8080/",
          "height": 437
        },
        "id": "k8seOjKuo7KB",
        "outputId": "7d559a9c-1f1f-46f4-956d-1c4ac1f35d41"
      },
      "execution_count": null,
      "outputs": [
        {
          "output_type": "display_data",
          "data": {
            "text/plain": [
              "plot without title"
            ],
            "image/png": "[encoded data removed]"
          },
          "metadata": {
            "image/png": {
              "width": 420,
              "height": 420
            }
          }
        }
      ]
    },
    {
      "cell_type": "code",
      "source": [
        "lib262_zi <- rollmean(lib262$count, k = 201,align = \"center\", fill = NA)\n",
        "\n",
        "lib262_zi <- data.frame(lib262_zi)\n",
        "\n",
        "\n",
        "lib262_mu <- rollmean(lib262$count, k = 501,align = \"center\", fill = NA)\n",
        "lib262_mu <- data.frame(lib262_mu)\n",
        "\n",
        "lib262_mu$seq_num <- seq.int(nrow(lib262_mu))\n",
        "lib262_zi$seq_num <- seq.int(nrow(lib262_zi))\n",
        "\n",
        "colnames(lib262_mu) = c( \"average count\",\"relative position\")\n",
        "colnames(lib262_zi) = c( \"average count\",\"relative position\")\n",
        "\n",
        "lib262_mu = lib262_mu %>% mutate(position = lib262_mu[,2] -3501)\n",
        "lib262_zi = lib262_zi %>% mutate(position = lib262_zi[,2] -3501)\n",
        "\n",
        "lib262_fenmu_1 <- data.frame(\n",
        "  x = numeric(0)\n",
        ")\n",
        "\n",
        "for (i in 251:1251) {\n",
        "  # access the ith row of the dataframe\n",
        "  row_i <- lib262_mu[i, ]\n",
        "  row <- row_i$\"average count\"\n",
        "\n",
        "  lib262_fenmu_1 <- rbind(lib262_fenmu_1, c(row))\n",
        "}\n",
        "\n",
        "lib262_fenmu_2 <- data.frame(\n",
        "  x = numeric(0)\n",
        ")\n",
        "\n",
        "for (i in 251:1251) {\n",
        "  # access the ith row of the dataframe\n",
        "  row_j <- lib262_mu[i+5500,]\n",
        "  row <- row_j$\"average count\"\n",
        "\n",
        "  lib262_fenmu_2 <- rbind(lib262_fenmu_2, c(row))\n",
        "}\n",
        "\n",
        "\n",
        "\n",
        "\n",
        "colnames(lib262_fenmu_1) = c( \"average count_1\")\n",
        "colnames(lib262_fenmu_2) = c( \"average count_2\")\n",
        "\n",
        "\n",
        "\n",
        "lib262_fenzi <- data.frame(\n",
        "  x = numeric(0)\n",
        ")\n",
        "\n",
        "for (i in 3001:4001) {\n",
        "  # access the ith row of the dataframe\n",
        "  row_i <- lib262_zi[i, ]$\"average count\"\n",
        "\n",
        "  lib262_fenzi <- rbind(lib262_fenzi, c(row_i))\n",
        "}\n",
        "\n",
        "\n",
        "\n",
        "colnames(lib262_fenzi) = c( \"average count\")\n",
        "lib262_fenzi\n",
        "\n",
        "\n",
        "\n",
        "lib262_total <- cbind(lib262_fenzi,lib262_fenmu_1$\"average count_1\",lib262_fenmu_2$\"average count_2\" )\n",
        "\n",
        "\n",
        "colnames(lib262_total) <- c(\"Numerator\", \"Denominator_1\",\"Denominator_2\")\n",
        "\n",
        "\n",
        "lib262_total = lib262_total %>% mutate(Relative_fraction_1 = Numerator/Denominator_1)\n",
        "lib262_total = lib262_total %>% mutate(Relative_fraction_2 = Numerator/Denominator_2)\n",
        "\n",
        "lib262_total = lib262_total %>% mutate(Relative_fraction = (Relative_fraction_1 + Relative_fraction_2)/2)\n",
        "\n",
        "\n"
      ],
      "metadata": {
        "id": "QcHuBubFWMdf"
      },
      "execution_count": null,
      "outputs": []
    },
    {
      "cell_type": "code",
      "source": [
        "dim(lib262_total)"
      ],
      "metadata": {
        "colab": {
          "base_uri": "https://localhost:8080/",
          "height": 34
        },
        "id": "perVOiEeuIi2",
        "outputId": "bdff1a1b-343e-4a32-9ea0-cd6407823bd6"
      },
      "execution_count": null,
      "outputs": [
        {
          "output_type": "display_data",
          "data": {
            "text/html": [
              "<style>\n",
              ".list-inline {list-style: none; margin:0; padding: 0}\n",
              ".list-inline>li {display: inline-block}\n",
              ".list-inline>li:not(:last-child)::after {content: \"\\00b7\"; padding: 0 .5ex}\n",
              "</style>\n",
              "<ol class=list-inline><li>1001</li><li>6</li></ol>\n"
            ],
            "text/markdown": "1. 1001\n2. 6\n\n\n",
            "text/latex": "\\begin{enumerate*}\n\\item 1001\n\\item 6\n\\end{enumerate*}\n",
            "text/plain": [
              "[1] 1001    6"
            ]
          },
          "metadata": {}
        }
      ]
    },
    {
      "cell_type": "code",
      "source": [
        "head(lib262_total)"
      ],
      "metadata": {
        "colab": {
          "base_uri": "https://localhost:8080/",
          "height": 286
        },
        "id": "avzPlnUiu9JN",
        "outputId": "5f962cc6-790c-411a-996a-70ea0912c0a0"
      },
      "execution_count": 151,
      "outputs": [
        {
          "output_type": "display_data",
          "data": {
            "text/html": [
              "<table class=\"dataframe\">\n",
              "<caption>A data.frame: 6 × 6</caption>\n",
              "<thead>\n",
              "\t<tr><th></th><th scope=col>Numerator</th><th scope=col>Denominator_1</th><th scope=col>Denominator_2</th><th scope=col>Relative_fraction_1</th><th scope=col>Relative_fraction_2</th><th scope=col>Relative_fraction</th></tr>\n",
              "\t<tr><th></th><th scope=col>&lt;dbl&gt;</th><th scope=col>&lt;dbl&gt;</th><th scope=col>&lt;dbl&gt;</th><th scope=col>&lt;dbl&gt;</th><th scope=col>&lt;dbl&gt;</th><th scope=col>&lt;dbl&gt;</th></tr>\n",
              "</thead>\n",
              "<tbody>\n",
              "\t<tr><th scope=row>1</th><td>337.9751</td><td>359.6427</td><td>370.2076</td><td>0.9397525</td><td>0.9129341</td><td>0.9263433</td></tr>\n",
              "\t<tr><th scope=row>2</th><td>337.9055</td><td>359.5369</td><td>370.1058</td><td>0.9398352</td><td>0.9129970</td><td>0.9264161</td></tr>\n",
              "\t<tr><th scope=row>3</th><td>337.8657</td><td>359.4331</td><td>370.0060</td><td>0.9399959</td><td>0.9131357</td><td>0.9265658</td></tr>\n",
              "\t<tr><th scope=row>4</th><td>337.8507</td><td>359.3253</td><td>369.9002</td><td>0.9402363</td><td>0.9133565</td><td>0.9267964</td></tr>\n",
              "\t<tr><th scope=row>5</th><td>337.8159</td><td>359.2236</td><td>369.7924</td><td>0.9404058</td><td>0.9135285</td><td>0.9269672</td></tr>\n",
              "\t<tr><th scope=row>6</th><td>337.7164</td><td>359.1238</td><td>369.6806</td><td>0.9403901</td><td>0.9135356</td><td>0.9269628</td></tr>\n",
              "</tbody>\n",
              "</table>\n"
            ],
            "text/markdown": "\nA data.frame: 6 × 6\n\n| <!--/--> | Numerator &lt;dbl&gt; | Denominator_1 &lt;dbl&gt; | Denominator_2 &lt;dbl&gt; | Relative_fraction_1 &lt;dbl&gt; | Relative_fraction_2 &lt;dbl&gt; | Relative_fraction &lt;dbl&gt; |\n|---|---|---|---|---|---|---|\n| 1 | 337.9751 | 359.6427 | 370.2076 | 0.9397525 | 0.9129341 | 0.9263433 |\n| 2 | 337.9055 | 359.5369 | 370.1058 | 0.9398352 | 0.9129970 | 0.9264161 |\n| 3 | 337.8657 | 359.4331 | 370.0060 | 0.9399959 | 0.9131357 | 0.9265658 |\n| 4 | 337.8507 | 359.3253 | 369.9002 | 0.9402363 | 0.9133565 | 0.9267964 |\n| 5 | 337.8159 | 359.2236 | 369.7924 | 0.9404058 | 0.9135285 | 0.9269672 |\n| 6 | 337.7164 | 359.1238 | 369.6806 | 0.9403901 | 0.9135356 | 0.9269628 |\n\n",
            "text/latex": "A data.frame: 6 × 6\n\\begin{tabular}{r|llllll}\n  & Numerator & Denominator\\_1 & Denominator\\_2 & Relative\\_fraction\\_1 & Relative\\_fraction\\_2 & Relative\\_fraction\\\\\n  & <dbl> & <dbl> & <dbl> & <dbl> & <dbl> & <dbl>\\\\\n\\hline\n\t1 & 337.9751 & 359.6427 & 370.2076 & 0.9397525 & 0.9129341 & 0.9263433\\\\\n\t2 & 337.9055 & 359.5369 & 370.1058 & 0.9398352 & 0.9129970 & 0.9264161\\\\\n\t3 & 337.8657 & 359.4331 & 370.0060 & 0.9399959 & 0.9131357 & 0.9265658\\\\\n\t4 & 337.8507 & 359.3253 & 369.9002 & 0.9402363 & 0.9133565 & 0.9267964\\\\\n\t5 & 337.8159 & 359.2236 & 369.7924 & 0.9404058 & 0.9135285 & 0.9269672\\\\\n\t6 & 337.7164 & 359.1238 & 369.6806 & 0.9403901 & 0.9135356 & 0.9269628\\\\\n\\end{tabular}\n",
            "text/plain": [
              "  Numerator Denominator_1 Denominator_2 Relative_fraction_1 Relative_fraction_2\n",
              "1 337.9751  359.6427      370.2076      0.9397525           0.9129341          \n",
              "2 337.9055  359.5369      370.1058      0.9398352           0.9129970          \n",
              "3 337.8657  359.4331      370.0060      0.9399959           0.9131357          \n",
              "4 337.8507  359.3253      369.9002      0.9402363           0.9133565          \n",
              "5 337.8159  359.2236      369.7924      0.9404058           0.9135285          \n",
              "6 337.7164  359.1238      369.6806      0.9403901           0.9135356          \n",
              "  Relative_fraction\n",
              "1 0.9263433        \n",
              "2 0.9264161        \n",
              "3 0.9265658        \n",
              "4 0.9267964        \n",
              "5 0.9269672        \n",
              "6 0.9269628        "
            ]
          },
          "metadata": {}
        }
      ]
    },
    {
      "cell_type": "code",
      "source": [
        "test <- cbind(relative_position$Sequential_Numbers, lib262_total$\"Relative_fraction_1\",lib262_total$\"Relative_fraction_2\", lib486_total$\"Relative_fraction_1\",lib486_total$\"Relative_fraction_2\" )"
      ],
      "metadata": {
        "id": "VS9MXOkhubI2"
      },
      "execution_count": 163,
      "outputs": []
    },
    {
      "cell_type": "code",
      "source": [
        "colnames(test) <- c(\"relative_position\", \"lib262_1\",\"lib262_2\",\"lib486_1\", \"lib486_2\")"
      ],
      "metadata": {
        "id": "ZBfp1BUZ27wx"
      },
      "execution_count": 171,
      "outputs": []
    },
    {
      "cell_type": "code",
      "source": [
        "b <- data.frame(test)"
      ],
      "metadata": {
        "id": "ZKHLemv14DMq"
      },
      "execution_count": 177,
      "outputs": []
    },
    {
      "cell_type": "code",
      "source": [
        "p = ggplot() + \n",
        "  geom_line(data = b, aes(x = relative_position, y = lib262_2), color = \"blue\") +\n",
        "  geom_line(data = b, aes(x = relative_position, y = lib486_1), color = \"red\") "
      ],
      "metadata": {
        "id": "4zi3kH7p3r2l"
      },
      "execution_count": 184,
      "outputs": []
    },
    {
      "cell_type": "code",
      "source": [
        "p"
      ],
      "metadata": {
        "colab": {
          "base_uri": "https://localhost:8080/",
          "height": 437
        },
        "id": "yeN6It3N4fpD",
        "outputId": "cb27660e-6ee4-488b-e606-9cd046521b3c"
      },
      "execution_count": 185,
      "outputs": [
        {
          "output_type": "display_data",
          "data": {
            "text/plain": [
              "plot without title"
            ],
            "image/png": "[encoded data removed]"
          },
          "metadata": {
            "image/png": {
              "width": 420,
              "height": 420
            }
          }
        }
      ]
    },
    {
      "cell_type": "code",
      "source": [
        "seq_num <- seq(from = -500, to = 500)\n",
        "relative_position <- data.frame(Sequential_Numbers = seq_num)"
      ],
      "metadata": {
        "id": "FVepcfCRWv5B"
      },
      "execution_count": 161,
      "outputs": []
    },
    {
      "cell_type": "code",
      "source": [
        "relative_position"
      ],
      "metadata": {
        "id": "iTZIblyL2z6U"
      },
      "execution_count": null,
      "outputs": []
    },
    {
      "cell_type": "code",
      "source": [
        "\n",
        "test <- data.frame(\n",
        "  x = numeric(0)\n",
        ")\n",
        "\n",
        "\n",
        "nrows <- nrow(lib262_total)\n",
        "\n",
        "for (i in 1:nrows) {\n",
        "  row_i <- lib262_total[i, ]$\"Relative_fraction_1\"\n",
        "  row_j <- lib262_total[i, ]$\"Relative_fraction_2\"\n",
        "\n",
        "\n",
        "  data <- c(row_i,row_j)\n",
        "  print(data)\n",
        "  normalized_data <- (data - min(data)) / (max(data) - min(data))\n",
        "\n",
        "  test <- rbind(test, normalized_data)\n",
        "\n",
        "}"
      ],
      "metadata": {
        "id": "s1rk2MAruu3x"
      },
      "execution_count": null,
      "outputs": []
    },
    {
      "cell_type": "code",
      "source": [
        "test"
      ],
      "metadata": {
        "id": "oh8H8hTlWpkB"
      },
      "execution_count": null,
      "outputs": []
    },
    {
      "cell_type": "code",
      "source": [],
      "metadata": {
        "id": "9PJ0FP7CTGvO"
      },
      "execution_count": null,
      "outputs": []
    },
    {
      "cell_type": "code",
      "source": [
        "head(test_2)"
      ],
      "metadata": {
        "colab": {
          "base_uri": "https://localhost:8080/",
          "height": 286
        },
        "id": "DGhfBWY5XMdW",
        "outputId": "8e29795b-e912-470c-a2bf-7960aa4a707f"
      },
      "execution_count": null,
      "outputs": [
        {
          "output_type": "display_data",
          "data": {
            "text/html": [
              "<table class=\"dataframe\">\n",
              "<caption>A data.frame: 6 × 2</caption>\n",
              "<thead>\n",
              "\t<tr><th></th><th scope=col>Sequential_Numbers</th><th scope=col>lib262_total$Relative_fraction_2</th></tr>\n",
              "\t<tr><th></th><th scope=col>&lt;int&gt;</th><th scope=col>&lt;dbl&gt;</th></tr>\n",
              "</thead>\n",
              "<tbody>\n",
              "\t<tr><th scope=row>1</th><td>-500</td><td>0.9226644</td></tr>\n",
              "\t<tr><th scope=row>2</th><td>-499</td><td>0.9224743</td></tr>\n",
              "\t<tr><th scope=row>3</th><td>-498</td><td>0.9223656</td></tr>\n",
              "\t<tr><th scope=row>4</th><td>-497</td><td>0.9223249</td></tr>\n",
              "\t<tr><th scope=row>5</th><td>-496</td><td>0.9222298</td></tr>\n",
              "\t<tr><th scope=row>6</th><td>-495</td><td>0.9219582</td></tr>\n",
              "</tbody>\n",
              "</table>\n"
            ],
            "text/markdown": "\nA data.frame: 6 × 2\n\n| <!--/--> | Sequential_Numbers &lt;int&gt; | lib262_total$Relative_fraction_2 &lt;dbl&gt; |\n|---|---|---|\n| 1 | -500 | 0.9226644 |\n| 2 | -499 | 0.9224743 |\n| 3 | -498 | 0.9223656 |\n| 4 | -497 | 0.9223249 |\n| 5 | -496 | 0.9222298 |\n| 6 | -495 | 0.9219582 |\n\n",
            "text/latex": "A data.frame: 6 × 2\n\\begin{tabular}{r|ll}\n  & Sequential\\_Numbers & lib262\\_total\\$Relative\\_fraction\\_2\\\\\n  & <int> & <dbl>\\\\\n\\hline\n\t1 & -500 & 0.9226644\\\\\n\t2 & -499 & 0.9224743\\\\\n\t3 & -498 & 0.9223656\\\\\n\t4 & -497 & 0.9223249\\\\\n\t5 & -496 & 0.9222298\\\\\n\t6 & -495 & 0.9219582\\\\\n\\end{tabular}\n",
            "text/plain": [
              "  Sequential_Numbers lib262_total$Relative_fraction_2\n",
              "1 -500               0.9226644                       \n",
              "2 -499               0.9224743                       \n",
              "3 -498               0.9223656                       \n",
              "4 -497               0.9223249                       \n",
              "5 -496               0.9222298                       \n",
              "6 -495               0.9219582                       "
            ]
          },
          "metadata": {}
        }
      ]
    },
    {
      "cell_type": "code",
      "source": [
        "head(test)"
      ],
      "metadata": {
        "colab": {
          "base_uri": "https://localhost:8080/",
          "height": 286
        },
        "id": "9jhUqWP4XQ8f",
        "outputId": "15d5e155-9f53-4468-d9cd-8c1a5543051e"
      },
      "execution_count": null,
      "outputs": [
        {
          "output_type": "display_data",
          "data": {
            "text/html": [
              "<table class=\"dataframe\">\n",
              "<caption>A data.frame: 6 × 2</caption>\n",
              "<thead>\n",
              "\t<tr><th></th><th scope=col>Sequential_Numbers</th><th scope=col>lib486_total$Relative_fraction_2</th></tr>\n",
              "\t<tr><th></th><th scope=col>&lt;int&gt;</th><th scope=col>&lt;dbl&gt;</th></tr>\n",
              "</thead>\n",
              "<tbody>\n",
              "\t<tr><th scope=row>1</th><td>-500</td><td>1.017676</td></tr>\n",
              "\t<tr><th scope=row>2</th><td>-499</td><td>1.017689</td></tr>\n",
              "\t<tr><th scope=row>3</th><td>-498</td><td>1.017582</td></tr>\n",
              "\t<tr><th scope=row>4</th><td>-497</td><td>1.017489</td></tr>\n",
              "\t<tr><th scope=row>5</th><td>-496</td><td>1.017382</td></tr>\n",
              "\t<tr><th scope=row>6</th><td>-495</td><td>1.017315</td></tr>\n",
              "</tbody>\n",
              "</table>\n"
            ],
            "text/markdown": "\nA data.frame: 6 × 2\n\n| <!--/--> | Sequential_Numbers &lt;int&gt; | lib486_total$Relative_fraction_2 &lt;dbl&gt; |\n|---|---|---|\n| 1 | -500 | 1.017676 |\n| 2 | -499 | 1.017689 |\n| 3 | -498 | 1.017582 |\n| 4 | -497 | 1.017489 |\n| 5 | -496 | 1.017382 |\n| 6 | -495 | 1.017315 |\n\n",
            "text/latex": "A data.frame: 6 × 2\n\\begin{tabular}{r|ll}\n  & Sequential\\_Numbers & lib486\\_total\\$Relative\\_fraction\\_2\\\\\n  & <int> & <dbl>\\\\\n\\hline\n\t1 & -500 & 1.017676\\\\\n\t2 & -499 & 1.017689\\\\\n\t3 & -498 & 1.017582\\\\\n\t4 & -497 & 1.017489\\\\\n\t5 & -496 & 1.017382\\\\\n\t6 & -495 & 1.017315\\\\\n\\end{tabular}\n",
            "text/plain": [
              "  Sequential_Numbers lib486_total$Relative_fraction_2\n",
              "1 -500               1.017676                        \n",
              "2 -499               1.017689                        \n",
              "3 -498               1.017582                        \n",
              "4 -497               1.017489                        \n",
              "5 -496               1.017382                        \n",
              "6 -495               1.017315                        "
            ]
          },
          "metadata": {}
        }
      ]
    },
    {
      "cell_type": "code",
      "source": [
        "ggplot(test_2, aes(x = Sequential_Numbers, y = lib262_total$Relative_fraction_2)) + \n",
        "  geom_line() "
      ],
      "metadata": {
        "id": "Hb9lLMR2XB8p"
      },
      "execution_count": null,
      "outputs": []
    },
    {
      "cell_type": "code",
      "source": [
        "ggplot(test, aes(x = Sequential_Numbers, y = lib486_total$Relative_fraction_2)) + \n",
        "  geom_line()  "
      ],
      "metadata": {
        "id": "S961WWXAXXYD"
      },
      "execution_count": null,
      "outputs": []
    },
    {
      "cell_type": "code",
      "source": [
        "p = ggplot() + \n",
        "  geom_line(data = test_2, aes(x = Sequential_Numbers, y = lib262_total$Relative_fraction), color = \"blue\") +\n",
        "  geom_line(data = test, aes(x = Sequential_Numbers, y = lib486_total$Relative_fraction), color = \"red\") "
      ],
      "metadata": {
        "id": "d-fNv0lpXAC_"
      },
      "execution_count": null,
      "outputs": []
    },
    {
      "cell_type": "code",
      "source": [
        "p"
      ],
      "metadata": {
        "colab": {
          "base_uri": "https://localhost:8080/",
          "height": 437
        },
        "id": "hEzfunpmXrk6",
        "outputId": "ac6e6b3e-89d8-464a-da3d-10a962383043"
      },
      "execution_count": null,
      "outputs": [
        {
          "output_type": "display_data",
          "data": {
            "text/plain": [
              "plot without title"
            ],
            "image/png": "[encoded data removed]"
          },
          "metadata": {
            "image/png": {
              "width": 420,
              "height": 420
            }
          }
        }
      ]
    },
    {
      "cell_type": "code",
      "source": [
        "#######patient"
      ],
      "metadata": {
        "id": "AClV9pk84k_k"
      },
      "execution_count": null,
      "outputs": []
    },
    {
      "cell_type": "code",
      "source": [
        "lib262_zi <- rollmean(lib262$count, k = 201)\n",
        "lib262_zi <- data.frame(lib262_zi)\n",
        "\n",
        "lib262_mu <- rollmean(lib262$count, k = 501)\n",
        "lib262_mu <- data.frame(lib262_mu)"
      ],
      "metadata": {
        "id": "30zoDwgB4iex"
      },
      "execution_count": null,
      "outputs": []
    },
    {
      "cell_type": "code",
      "source": [
        "lib262_mu$seq_num <- seq.int(nrow(lib262_mu))\n",
        "lib262_zi$seq_num <- seq.int(nrow(lib262_zi))"
      ],
      "metadata": {
        "id": "Zt8s-Btm4nP4"
      },
      "execution_count": null,
      "outputs": []
    },
    {
      "cell_type": "code",
      "source": [
        "lib262_mu = lib262_mu %>% mutate(re_pos = seq_num -3251)\n",
        "lib262_zi = lib262_zi %>% mutate(re_pos = seq_num -3401)"
      ],
      "metadata": {
        "id": "EYCGABuZ4omC"
      },
      "execution_count": null,
      "outputs": []
    },
    {
      "cell_type": "code",
      "source": [
        "row.names(lib262_mu) <- lib262_mu[,3]\n",
        "row.names(lib262_zi) <- lib262_zi[,3]"
      ],
      "metadata": {
        "id": "oX1FiqKh4quQ"
      },
      "execution_count": null,
      "outputs": []
    },
    {
      "cell_type": "code",
      "source": [
        "lib262_fenmu <- data.frame(\n",
        "  x = numeric(0)\n",
        ")\n",
        "\n",
        "for (i in 1:1001) {\n",
        "  # access the ith row of the dataframe\n",
        "  row_i <- lib262_mu[i, ]\n",
        "  row_j <- lib262_mu[i+5000,]\n",
        "  row <- (row_i$lib262_mu + row_j$lib262_mu) / 2\n",
        "\n",
        "  lib262_fenmu <- rbind(lib262_fenmu, c(row))\n",
        "}\n"
      ],
      "metadata": {
        "id": "LVm7jtgt4tfi"
      },
      "execution_count": null,
      "outputs": []
    },
    {
      "cell_type": "code",
      "source": [
        "lib262_fenzi <- data.frame(\n",
        "  x = numeric(0)\n",
        ")\n",
        "\n",
        "for (i in 1:1001) {\n",
        "  # access the ith row of the dataframe\n",
        "  row_i <- lib262_zi[i+2900, ]$lib262_zi\n",
        "\n",
        "  lib262_fenzi <- rbind(lib262_fenzi, c(row_i))\n",
        "}"
      ],
      "metadata": {
        "id": "Oeakkz5S4vTq"
      },
      "execution_count": null,
      "outputs": []
    },
    {
      "cell_type": "code",
      "source": [
        "head(lib262_fenmu)"
      ],
      "metadata": {
        "colab": {
          "base_uri": "https://localhost:8080/",
          "height": 286
        },
        "id": "ZHTpEwaY4yh-",
        "outputId": "773d2317-51c3-42e8-f4b6-c12e960a2f4e"
      },
      "execution_count": null,
      "outputs": [
        {
          "output_type": "display_data",
          "data": {
            "text/html": [
              "<table class=\"dataframe\">\n",
              "<caption>A data.frame: 6 × 1</caption>\n",
              "<thead>\n",
              "\t<tr><th></th><th scope=col>X356.295409181637</th></tr>\n",
              "\t<tr><th></th><th scope=col>&lt;dbl&gt;</th></tr>\n",
              "</thead>\n",
              "<tbody>\n",
              "\t<tr><th scope=row>1</th><td>356.2954</td></tr>\n",
              "\t<tr><th scope=row>2</th><td>356.2894</td></tr>\n",
              "\t<tr><th scope=row>3</th><td>356.2914</td></tr>\n",
              "\t<tr><th scope=row>4</th><td>356.2944</td></tr>\n",
              "\t<tr><th scope=row>5</th><td>356.3024</td></tr>\n",
              "\t<tr><th scope=row>6</th><td>356.3054</td></tr>\n",
              "</tbody>\n",
              "</table>\n"
            ],
            "text/markdown": "\nA data.frame: 6 × 1\n\n| <!--/--> | X356.295409181637 &lt;dbl&gt; |\n|---|---|\n| 1 | 356.2954 |\n| 2 | 356.2894 |\n| 3 | 356.2914 |\n| 4 | 356.2944 |\n| 5 | 356.3024 |\n| 6 | 356.3054 |\n\n",
            "text/latex": "A data.frame: 6 × 1\n\\begin{tabular}{r|l}\n  & X356.295409181637\\\\\n  & <dbl>\\\\\n\\hline\n\t1 & 356.2954\\\\\n\t2 & 356.2894\\\\\n\t3 & 356.2914\\\\\n\t4 & 356.2944\\\\\n\t5 & 356.3024\\\\\n\t6 & 356.3054\\\\\n\\end{tabular}\n",
            "text/plain": [
              "  X356.295409181637\n",
              "1 356.2954         \n",
              "2 356.2894         \n",
              "3 356.2914         \n",
              "4 356.2944         \n",
              "5 356.3024         \n",
              "6 356.3054         "
            ]
          },
          "metadata": {}
        }
      ]
    },
    {
      "cell_type": "code",
      "source": [
        "\n",
        "lib262_total <- cbind(lib262_fenzi,lib262_fenmu$X356.295409181637 )\n",
        "colnames(lib262_total) <- c(\"Numerator\", \"Denominator\")\n",
        "lib262_total = lib262_total %>% mutate(Relative_fraction = Numerator/Denominator)"
      ],
      "metadata": {
        "id": "GbOa0Nv54Y8Y"
      },
      "execution_count": null,
      "outputs": []
    },
    {
      "cell_type": "code",
      "source": [
        "lib262_total = lib262_total %>% mutate(Relative_fraction_version2 = Numerator/365.2236)"
      ],
      "metadata": {
        "id": "Pi0G0aXK-3fx"
      },
      "execution_count": null,
      "outputs": []
    },
    {
      "cell_type": "code",
      "source": [
        "lib486_total = lib486_total %>% mutate(Relative_fraction_version2 = Numerator/385.2226)"
      ],
      "metadata": {
        "id": "rU5WmzwZ_uhr"
      },
      "execution_count": null,
      "outputs": []
    },
    {
      "cell_type": "code",
      "source": [
        "lib486_total[501,]"
      ],
      "metadata": {
        "colab": {
          "base_uri": "https://localhost:8080/",
          "height": 129
        },
        "id": "pcky2tQl_MXZ",
        "outputId": "6ab79e84-7dd3-4b18-d14c-d6a9ba6e5cdc"
      },
      "execution_count": null,
      "outputs": [
        {
          "output_type": "display_data",
          "data": {
            "text/html": [
              "<table class=\"dataframe\">\n",
              "<caption>A data.frame: 1 × 3</caption>\n",
              "<thead>\n",
              "\t<tr><th></th><th scope=col>Numerator</th><th scope=col>Denominator</th><th scope=col>Relative_fraction</th></tr>\n",
              "\t<tr><th></th><th scope=col>&lt;dbl&gt;</th><th scope=col>&lt;dbl&gt;</th><th scope=col>&lt;dbl&gt;</th></tr>\n",
              "</thead>\n",
              "<tbody>\n",
              "\t<tr><th scope=row>501</th><td>363.8955</td><td>385.2226</td><td>0.9446371</td></tr>\n",
              "</tbody>\n",
              "</table>\n"
            ],
            "text/markdown": "\nA data.frame: 1 × 3\n\n| <!--/--> | Numerator &lt;dbl&gt; | Denominator &lt;dbl&gt; | Relative_fraction &lt;dbl&gt; |\n|---|---|---|---|\n| 501 | 363.8955 | 385.2226 | 0.9446371 |\n\n",
            "text/latex": "A data.frame: 1 × 3\n\\begin{tabular}{r|lll}\n  & Numerator & Denominator & Relative\\_fraction\\\\\n  & <dbl> & <dbl> & <dbl>\\\\\n\\hline\n\t501 & 363.8955 & 385.2226 & 0.9446371\\\\\n\\end{tabular}\n",
            "text/plain": [
              "    Numerator Denominator Relative_fraction\n",
              "501 363.8955  385.2226    0.9446371        "
            ]
          },
          "metadata": {}
        }
      ]
    },
    {
      "cell_type": "code",
      "source": [
        "lib262_total[502,]"
      ],
      "metadata": {
        "colab": {
          "base_uri": "https://localhost:8080/",
          "height": 129
        },
        "id": "WDTlMe_e_Xo8",
        "outputId": "f261670a-e9a3-4620-dbff-e2764f92b4d6"
      },
      "execution_count": null,
      "outputs": [
        {
          "output_type": "display_data",
          "data": {
            "text/html": [
              "<table class=\"dataframe\">\n",
              "<caption>A data.frame: 1 × 3</caption>\n",
              "<thead>\n",
              "\t<tr><th></th><th scope=col>Numerator</th><th scope=col>Denominator</th><th scope=col>Relative_fraction</th></tr>\n",
              "\t<tr><th></th><th scope=col>&lt;dbl&gt;</th><th scope=col>&lt;dbl&gt;</th><th scope=col>&lt;dbl&gt;</th></tr>\n",
              "</thead>\n",
              "<tbody>\n",
              "\t<tr><th scope=row>502</th><td>371.0547</td><td>365.2006</td><td>1.01603</td></tr>\n",
              "</tbody>\n",
              "</table>\n"
            ],
            "text/markdown": "\nA data.frame: 1 × 3\n\n| <!--/--> | Numerator &lt;dbl&gt; | Denominator &lt;dbl&gt; | Relative_fraction &lt;dbl&gt; |\n|---|---|---|---|\n| 502 | 371.0547 | 365.2006 | 1.01603 |\n\n",
            "text/latex": "A data.frame: 1 × 3\n\\begin{tabular}{r|lll}\n  & Numerator & Denominator & Relative\\_fraction\\\\\n  & <dbl> & <dbl> & <dbl>\\\\\n\\hline\n\t502 & 371.0547 & 365.2006 & 1.01603\\\\\n\\end{tabular}\n",
            "text/plain": [
              "    Numerator Denominator Relative_fraction\n",
              "502 371.0547  365.2006    1.01603          "
            ]
          },
          "metadata": {}
        }
      ]
    },
    {
      "cell_type": "code",
      "source": [
        "lib262_total[500,]"
      ],
      "metadata": {
        "colab": {
          "base_uri": "https://localhost:8080/",
          "height": 129
        },
        "id": "KXBwwirs_Zf4",
        "outputId": "c32c1ad3-5258-45da-a617-c085e727c36e"
      },
      "execution_count": null,
      "outputs": [
        {
          "output_type": "display_data",
          "data": {
            "text/html": [
              "<table class=\"dataframe\">\n",
              "<caption>A data.frame: 1 × 3</caption>\n",
              "<thead>\n",
              "\t<tr><th></th><th scope=col>Numerator</th><th scope=col>Denominator</th><th scope=col>Relative_fraction</th></tr>\n",
              "\t<tr><th></th><th scope=col>&lt;dbl&gt;</th><th scope=col>&lt;dbl&gt;</th><th scope=col>&lt;dbl&gt;</th></tr>\n",
              "</thead>\n",
              "<tbody>\n",
              "\t<tr><th scope=row>500</th><td>371.5622</td><td>365.2525</td><td>1.017275</td></tr>\n",
              "</tbody>\n",
              "</table>\n"
            ],
            "text/markdown": "\nA data.frame: 1 × 3\n\n| <!--/--> | Numerator &lt;dbl&gt; | Denominator &lt;dbl&gt; | Relative_fraction &lt;dbl&gt; |\n|---|---|---|---|\n| 500 | 371.5622 | 365.2525 | 1.017275 |\n\n",
            "text/latex": "A data.frame: 1 × 3\n\\begin{tabular}{r|lll}\n  & Numerator & Denominator & Relative\\_fraction\\\\\n  & <dbl> & <dbl> & <dbl>\\\\\n\\hline\n\t500 & 371.5622 & 365.2525 & 1.017275\\\\\n\\end{tabular}\n",
            "text/plain": [
              "    Numerator Denominator Relative_fraction\n",
              "500 371.5622  365.2525    1.017275         "
            ]
          },
          "metadata": {}
        }
      ]
    },
    {
      "cell_type": "code",
      "source": [
        "dim(lib262_total)"
      ],
      "metadata": {
        "colab": {
          "base_uri": "https://localhost:8080/",
          "height": 34
        },
        "id": "tlVI0is547xE",
        "outputId": "1a679069-829e-4deb-c7da-e97e84e8a71e"
      },
      "execution_count": null,
      "outputs": [
        {
          "output_type": "display_data",
          "data": {
            "text/html": [
              "<style>\n",
              ".list-inline {list-style: none; margin:0; padding: 0}\n",
              ".list-inline>li {display: inline-block}\n",
              ".list-inline>li:not(:last-child)::after {content: \"\\00b7\"; padding: 0 .5ex}\n",
              "</style>\n",
              "<ol class=list-inline><li>1001</li><li>3</li></ol>\n"
            ],
            "text/markdown": "1. 1001\n2. 3\n\n\n",
            "text/latex": "\\begin{enumerate*}\n\\item 1001\n\\item 3\n\\end{enumerate*}\n",
            "text/plain": [
              "[1] 1001    3"
            ]
          },
          "metadata": {}
        }
      ]
    },
    {
      "cell_type": "code",
      "source": [
        "head(relative_position)"
      ],
      "metadata": {
        "id": "RMtEMA0T6KIe"
      },
      "execution_count": null,
      "outputs": []
    },
    {
      "cell_type": "code",
      "source": [
        "seq_num <- seq(from = -500, to = 500)\n",
        "relative_position <- data.frame(Sequential_Numbers = seq_num)\n",
        "all_needed <- cbind(relative_position,lib262_total$Relative_fraction_version2, lib486_total$Relative_fraction_version2 )"
      ],
      "metadata": {
        "id": "447GBzEt6OFm"
      },
      "execution_count": null,
      "outputs": []
    },
    {
      "cell_type": "code",
      "source": [
        "head(all_needed)"
      ],
      "metadata": {
        "colab": {
          "base_uri": "https://localhost:8080/",
          "height": 286
        },
        "id": "rbqlwBoh6hZb",
        "outputId": "23b5d810-ef8f-4e14-df95-e393ae7907fd"
      },
      "execution_count": null,
      "outputs": [
        {
          "output_type": "display_data",
          "data": {
            "text/html": [
              "<table class=\"dataframe\">\n",
              "<caption>A data.frame: 6 × 3</caption>\n",
              "<thead>\n",
              "\t<tr><th></th><th scope=col>Sequential_Numbers</th><th scope=col>lib262_total$Relative_fraction_version2</th><th scope=col>lib486_total$Relative_fraction_version2</th></tr>\n",
              "\t<tr><th></th><th scope=col>&lt;int&gt;</th><th scope=col>&lt;dbl&gt;</th><th scope=col>&lt;dbl&gt;</th></tr>\n",
              "</thead>\n",
              "<tbody>\n",
              "\t<tr><th scope=row>1</th><td>-500</td><td>0.9253923</td><td>0.9848799</td></tr>\n",
              "\t<tr><th scope=row>2</th><td>-499</td><td>0.9252016</td><td>0.9848929</td></tr>\n",
              "\t<tr><th scope=row>3</th><td>-498</td><td>0.9250927</td><td>0.9847895</td></tr>\n",
              "\t<tr><th scope=row>4</th><td>-497</td><td>0.9250518</td><td>0.9846991</td></tr>\n",
              "\t<tr><th scope=row>5</th><td>-496</td><td>0.9249564</td><td>0.9845958</td></tr>\n",
              "\t<tr><th scope=row>6</th><td>-495</td><td>0.9246840</td><td>0.9845312</td></tr>\n",
              "</tbody>\n",
              "</table>\n"
            ],
            "text/markdown": "\nA data.frame: 6 × 3\n\n| <!--/--> | Sequential_Numbers &lt;int&gt; | lib262_total$Relative_fraction_version2 &lt;dbl&gt; | lib486_total$Relative_fraction_version2 &lt;dbl&gt; |\n|---|---|---|---|\n| 1 | -500 | 0.9253923 | 0.9848799 |\n| 2 | -499 | 0.9252016 | 0.9848929 |\n| 3 | -498 | 0.9250927 | 0.9847895 |\n| 4 | -497 | 0.9250518 | 0.9846991 |\n| 5 | -496 | 0.9249564 | 0.9845958 |\n| 6 | -495 | 0.9246840 | 0.9845312 |\n\n",
            "text/latex": "A data.frame: 6 × 3\n\\begin{tabular}{r|lll}\n  & Sequential\\_Numbers & lib262\\_total\\$Relative\\_fraction\\_version2 & lib486\\_total\\$Relative\\_fraction\\_version2\\\\\n  & <int> & <dbl> & <dbl>\\\\\n\\hline\n\t1 & -500 & 0.9253923 & 0.9848799\\\\\n\t2 & -499 & 0.9252016 & 0.9848929\\\\\n\t3 & -498 & 0.9250927 & 0.9847895\\\\\n\t4 & -497 & 0.9250518 & 0.9846991\\\\\n\t5 & -496 & 0.9249564 & 0.9845958\\\\\n\t6 & -495 & 0.9246840 & 0.9845312\\\\\n\\end{tabular}\n",
            "text/plain": [
              "  Sequential_Numbers lib262_total$Relative_fraction_version2\n",
              "1 -500               0.9253923                              \n",
              "2 -499               0.9252016                              \n",
              "3 -498               0.9250927                              \n",
              "4 -497               0.9250518                              \n",
              "5 -496               0.9249564                              \n",
              "6 -495               0.9246840                              \n",
              "  lib486_total$Relative_fraction_version2\n",
              "1 0.9848799                              \n",
              "2 0.9848929                              \n",
              "3 0.9847895                              \n",
              "4 0.9846991                              \n",
              "5 0.9845958                              \n",
              "6 0.9845312                              "
            ]
          },
          "metadata": {}
        }
      ]
    },
    {
      "cell_type": "code",
      "source": [
        "ggplot(all_needed, aes(x = Sequential_Numbers, y = lib262_total$Relative_fraction)) + geom_line() + xlim(-500,500) + xlab(\"Position relative to peak\") + ylab(\"Relative coverage\") + \n",
        "  geom_smooth(method = \"loess\", span = .0125,)\n"
      ],
      "metadata": {
        "id": "4IUaWLakDNEi"
      },
      "execution_count": null,
      "outputs": []
    },
    {
      "cell_type": "code",
      "source": [
        "p = ggplot() + \n",
        "  geom_line(data = all_needed, aes(x = Sequential_Numbers, y = lib262_total$Relative_fraction_version2), color = \"blue\") +\n",
        "  geom_line(data = all_needed, aes(x = Sequential_Numbers, y = lib486_total$Relative_fraction_version2), color = \"red\") "
      ],
      "metadata": {
        "id": "9c5mBVkiAsA1"
      },
      "execution_count": null,
      "outputs": []
    },
    {
      "cell_type": "code",
      "source": [
        "p"
      ],
      "metadata": {
        "colab": {
          "base_uri": "https://localhost:8080/",
          "height": 437
        },
        "id": "nlRCVpUJ8dQG",
        "outputId": "da65d386-c60a-476b-d4dd-6ba8495621cf"
      },
      "execution_count": null,
      "outputs": [
        {
          "output_type": "display_data",
          "data": {
            "text/plain": [
              "plot without title"
            ],
            "image/png": "[encoded data removed]"
          },
          "metadata": {
            "image/png": {
              "width": 420,
              "height": 420
            }
          }
        }
      ]
    },
    {
      "cell_type": "code",
      "source": [],
      "metadata": {
        "id": "9U_ntU9S8d51"
      },
      "execution_count": null,
      "outputs": []
    }
  ]
}